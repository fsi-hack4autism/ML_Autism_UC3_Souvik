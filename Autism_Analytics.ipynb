{
 "cells": [
  {
   "cell_type": "code",
   "execution_count": 1,
   "id": "21160e83",
   "metadata": {
    "scrolled": true
   },
   "outputs": [],
   "source": [
    "import matplotlib.pyplot as plt\n",
    "import pandas as pd"
   ]
  },
  {
   "cell_type": "code",
   "execution_count": 2,
   "id": "bb50856c",
   "metadata": {},
   "outputs": [
    {
     "data": {
      "text/html": [
       "<div>\n",
       "<style scoped>\n",
       "    .dataframe tbody tr th:only-of-type {\n",
       "        vertical-align: middle;\n",
       "    }\n",
       "\n",
       "    .dataframe tbody tr th {\n",
       "        vertical-align: top;\n",
       "    }\n",
       "\n",
       "    .dataframe thead th {\n",
       "        text-align: right;\n",
       "    }\n",
       "</style>\n",
       "<table border=\"1\" class=\"dataframe\">\n",
       "  <thead>\n",
       "    <tr style=\"text-align: right;\">\n",
       "      <th></th>\n",
       "      <th>ClientId</th>\n",
       "      <th>Gender</th>\n",
       "      <th>BirthDateYear</th>\n",
       "      <th>goalForced_80Percent</th>\n",
       "      <th>percentCorrect</th>\n",
       "      <th>sumValue_byTrial</th>\n",
       "      <th>maxValue_byTrial</th>\n",
       "      <th>lag1_percentCorrect</th>\n",
       "      <th>lag2_percentCorrect</th>\n",
       "      <th>daysSinceLastSession</th>\n",
       "      <th>...</th>\n",
       "      <th>startGraphed_byTargetId</th>\n",
       "      <th>period_graphedByTarget</th>\n",
       "      <th>dayBins_graphedByTarget</th>\n",
       "      <th>endGraphed_byTargetId</th>\n",
       "      <th>year_TrialDataDate</th>\n",
       "      <th>month_year_TrialDataDate</th>\n",
       "      <th>monthYr_TrialDataDate</th>\n",
       "      <th>dayWk_TrialDataDate</th>\n",
       "      <th>weekYr_TrialDataDate</th>\n",
       "      <th>dayYr_TrialDataDate</th>\n",
       "    </tr>\n",
       "  </thead>\n",
       "  <tbody>\n",
       "    <tr>\n",
       "      <th>0</th>\n",
       "      <td>V2_0</td>\n",
       "      <td>Male</td>\n",
       "      <td>2008.0</td>\n",
       "      <td>0.0</td>\n",
       "      <td>0.000000</td>\n",
       "      <td>0</td>\n",
       "      <td>3</td>\n",
       "      <td>NaN</td>\n",
       "      <td>NaN</td>\n",
       "      <td>:0:00:00</td>\n",
       "      <td>...</td>\n",
       "      <td>2016/03/17 11:49:21.197 PM</td>\n",
       "      <td>:95:00:45:48</td>\n",
       "      <td>:90:00:00:00</td>\n",
       "      <td>2016/06/21 12:35:09.152 AM</td>\n",
       "      <td>2016</td>\n",
       "      <td>03/2016</td>\n",
       "      <td>3</td>\n",
       "      <td>5</td>\n",
       "      <td>12</td>\n",
       "      <td>77</td>\n",
       "    </tr>\n",
       "    <tr>\n",
       "      <th>1</th>\n",
       "      <td>V2_0</td>\n",
       "      <td>Male</td>\n",
       "      <td>2008.0</td>\n",
       "      <td>0.0</td>\n",
       "      <td>0.000000</td>\n",
       "      <td>0</td>\n",
       "      <td>5</td>\n",
       "      <td>NaN</td>\n",
       "      <td>NaN</td>\n",
       "      <td>:0:00:00</td>\n",
       "      <td>...</td>\n",
       "      <td>2016/03/17 11:55:21.329 PM</td>\n",
       "      <td>:144:01:23:08</td>\n",
       "      <td>:90:00:00:00</td>\n",
       "      <td>2016/08/09 1:18:29.327 AM</td>\n",
       "      <td>2016</td>\n",
       "      <td>03/2016</td>\n",
       "      <td>3</td>\n",
       "      <td>5</td>\n",
       "      <td>12</td>\n",
       "      <td>77</td>\n",
       "    </tr>\n",
       "    <tr>\n",
       "      <th>2</th>\n",
       "      <td>V2_0</td>\n",
       "      <td>Male</td>\n",
       "      <td>2008.0</td>\n",
       "      <td>0.0</td>\n",
       "      <td>0.400000</td>\n",
       "      <td>2</td>\n",
       "      <td>5</td>\n",
       "      <td>NaN</td>\n",
       "      <td>NaN</td>\n",
       "      <td>:0:00:00</td>\n",
       "      <td>...</td>\n",
       "      <td>2016/03/18 12:04:06.077 AM</td>\n",
       "      <td>:110:23:09:01</td>\n",
       "      <td>:90:00:00:00</td>\n",
       "      <td>2016/07/06 11:13:06.679 PM</td>\n",
       "      <td>2016</td>\n",
       "      <td>03/2016</td>\n",
       "      <td>3</td>\n",
       "      <td>5</td>\n",
       "      <td>12</td>\n",
       "      <td>77</td>\n",
       "    </tr>\n",
       "    <tr>\n",
       "      <th>3</th>\n",
       "      <td>V2_0</td>\n",
       "      <td>Male</td>\n",
       "      <td>2008.0</td>\n",
       "      <td>0.0</td>\n",
       "      <td>0.000000</td>\n",
       "      <td>0</td>\n",
       "      <td>6</td>\n",
       "      <td>NaN</td>\n",
       "      <td>NaN</td>\n",
       "      <td>:0:00:00</td>\n",
       "      <td>...</td>\n",
       "      <td>2016/03/18 12:05:48.690 AM</td>\n",
       "      <td>:49:00:24:23</td>\n",
       "      <td>:0:00:00:00</td>\n",
       "      <td>2016/05/06 12:30:11.643 AM</td>\n",
       "      <td>2016</td>\n",
       "      <td>03/2016</td>\n",
       "      <td>3</td>\n",
       "      <td>5</td>\n",
       "      <td>12</td>\n",
       "      <td>77</td>\n",
       "    </tr>\n",
       "    <tr>\n",
       "      <th>4</th>\n",
       "      <td>V2_0</td>\n",
       "      <td>Male</td>\n",
       "      <td>2008.0</td>\n",
       "      <td>0.0</td>\n",
       "      <td>0.200000</td>\n",
       "      <td>2</td>\n",
       "      <td>10</td>\n",
       "      <td>NaN</td>\n",
       "      <td>NaN</td>\n",
       "      <td>:0:00:00</td>\n",
       "      <td>...</td>\n",
       "      <td>2016/03/18 12:05:30.186 AM</td>\n",
       "      <td>:200:17:19:45</td>\n",
       "      <td>:180:00:00:00</td>\n",
       "      <td>2016/10/04 5:25:15.376 PM</td>\n",
       "      <td>2016</td>\n",
       "      <td>03/2016</td>\n",
       "      <td>3</td>\n",
       "      <td>5</td>\n",
       "      <td>12</td>\n",
       "      <td>77</td>\n",
       "    </tr>\n",
       "    <tr>\n",
       "      <th>...</th>\n",
       "      <td>...</td>\n",
       "      <td>...</td>\n",
       "      <td>...</td>\n",
       "      <td>...</td>\n",
       "      <td>...</td>\n",
       "      <td>...</td>\n",
       "      <td>...</td>\n",
       "      <td>...</td>\n",
       "      <td>...</td>\n",
       "      <td>...</td>\n",
       "      <td>...</td>\n",
       "      <td>...</td>\n",
       "      <td>...</td>\n",
       "      <td>...</td>\n",
       "      <td>...</td>\n",
       "      <td>...</td>\n",
       "      <td>...</td>\n",
       "      <td>...</td>\n",
       "      <td>...</td>\n",
       "      <td>...</td>\n",
       "      <td>...</td>\n",
       "    </tr>\n",
       "    <tr>\n",
       "      <th>555986</th>\n",
       "      <td>V2_1026</td>\n",
       "      <td>Male</td>\n",
       "      <td>2015.0</td>\n",
       "      <td>0.0</td>\n",
       "      <td>0.583333</td>\n",
       "      <td>7</td>\n",
       "      <td>12</td>\n",
       "      <td>0.666667</td>\n",
       "      <td>0.750000</td>\n",
       "      <td>:4:00:00</td>\n",
       "      <td>...</td>\n",
       "      <td>2018/03/09 12:19:22.347 AM</td>\n",
       "      <td>:21:14:42:41</td>\n",
       "      <td>:0:00:00:00</td>\n",
       "      <td>2018/03/30 3:02:03.243 PM</td>\n",
       "      <td>2018</td>\n",
       "      <td>03/2018</td>\n",
       "      <td>3</td>\n",
       "      <td>2</td>\n",
       "      <td>11</td>\n",
       "      <td>71</td>\n",
       "    </tr>\n",
       "    <tr>\n",
       "      <th>555987</th>\n",
       "      <td>V2_1026</td>\n",
       "      <td>Male</td>\n",
       "      <td>2015.0</td>\n",
       "      <td>0.0</td>\n",
       "      <td>0.583333</td>\n",
       "      <td>7</td>\n",
       "      <td>12</td>\n",
       "      <td>0.583333</td>\n",
       "      <td>0.666667</td>\n",
       "      <td>:4:00:00</td>\n",
       "      <td>...</td>\n",
       "      <td>2018/03/09 12:19:22.347 AM</td>\n",
       "      <td>:21:14:42:41</td>\n",
       "      <td>:0:00:00:00</td>\n",
       "      <td>2018/03/30 3:02:03.243 PM</td>\n",
       "      <td>2018</td>\n",
       "      <td>03/2018</td>\n",
       "      <td>3</td>\n",
       "      <td>2</td>\n",
       "      <td>11</td>\n",
       "      <td>71</td>\n",
       "    </tr>\n",
       "    <tr>\n",
       "      <th>555988</th>\n",
       "      <td>V2_1026</td>\n",
       "      <td>Male</td>\n",
       "      <td>2015.0</td>\n",
       "      <td>0.0</td>\n",
       "      <td>0.666667</td>\n",
       "      <td>2</td>\n",
       "      <td>3</td>\n",
       "      <td>0.000000</td>\n",
       "      <td>0.000000</td>\n",
       "      <td>:11:00:00</td>\n",
       "      <td>...</td>\n",
       "      <td>2018/03/09 12:19:22.347 AM</td>\n",
       "      <td>:21:14:42:41</td>\n",
       "      <td>:0:00:00:00</td>\n",
       "      <td>2018/03/30 3:02:03.243 PM</td>\n",
       "      <td>2018</td>\n",
       "      <td>03/2018</td>\n",
       "      <td>3</td>\n",
       "      <td>3</td>\n",
       "      <td>13</td>\n",
       "      <td>86</td>\n",
       "    </tr>\n",
       "    <tr>\n",
       "      <th>555989</th>\n",
       "      <td>V2_1026</td>\n",
       "      <td>Male</td>\n",
       "      <td>2015.0</td>\n",
       "      <td>0.0</td>\n",
       "      <td>0.500000</td>\n",
       "      <td>2</td>\n",
       "      <td>4</td>\n",
       "      <td>0.666667</td>\n",
       "      <td>0.000000</td>\n",
       "      <td>:11:00:00</td>\n",
       "      <td>...</td>\n",
       "      <td>2018/03/09 12:19:22.347 AM</td>\n",
       "      <td>:21:14:42:41</td>\n",
       "      <td>:0:00:00:00</td>\n",
       "      <td>2018/03/30 3:02:03.243 PM</td>\n",
       "      <td>2018</td>\n",
       "      <td>03/2018</td>\n",
       "      <td>3</td>\n",
       "      <td>3</td>\n",
       "      <td>13</td>\n",
       "      <td>86</td>\n",
       "    </tr>\n",
       "    <tr>\n",
       "      <th>555990</th>\n",
       "      <td>V2_1026</td>\n",
       "      <td>Male</td>\n",
       "      <td>2015.0</td>\n",
       "      <td>0.0</td>\n",
       "      <td>0.500000</td>\n",
       "      <td>2</td>\n",
       "      <td>4</td>\n",
       "      <td>0.500000</td>\n",
       "      <td>0.666667</td>\n",
       "      <td>:11:00:00</td>\n",
       "      <td>...</td>\n",
       "      <td>2018/03/09 12:19:22.347 AM</td>\n",
       "      <td>:21:14:42:41</td>\n",
       "      <td>:0:00:00:00</td>\n",
       "      <td>2018/03/30 3:02:03.243 PM</td>\n",
       "      <td>2018</td>\n",
       "      <td>03/2018</td>\n",
       "      <td>3</td>\n",
       "      <td>3</td>\n",
       "      <td>13</td>\n",
       "      <td>86</td>\n",
       "    </tr>\n",
       "  </tbody>\n",
       "</table>\n",
       "<p>555991 rows × 78 columns</p>\n",
       "</div>"
      ],
      "text/plain": [
       "       ClientId Gender  BirthDateYear  goalForced_80Percent  percentCorrect  \\\n",
       "0          V2_0   Male         2008.0                   0.0        0.000000   \n",
       "1          V2_0   Male         2008.0                   0.0        0.000000   \n",
       "2          V2_0   Male         2008.0                   0.0        0.400000   \n",
       "3          V2_0   Male         2008.0                   0.0        0.000000   \n",
       "4          V2_0   Male         2008.0                   0.0        0.200000   \n",
       "...         ...    ...            ...                   ...             ...   \n",
       "555986  V2_1026   Male         2015.0                   0.0        0.583333   \n",
       "555987  V2_1026   Male         2015.0                   0.0        0.583333   \n",
       "555988  V2_1026   Male         2015.0                   0.0        0.666667   \n",
       "555989  V2_1026   Male         2015.0                   0.0        0.500000   \n",
       "555990  V2_1026   Male         2015.0                   0.0        0.500000   \n",
       "\n",
       "        sumValue_byTrial  maxValue_byTrial  lag1_percentCorrect  \\\n",
       "0                      0                 3                  NaN   \n",
       "1                      0                 5                  NaN   \n",
       "2                      2                 5                  NaN   \n",
       "3                      0                 6                  NaN   \n",
       "4                      2                10                  NaN   \n",
       "...                  ...               ...                  ...   \n",
       "555986                 7                12             0.666667   \n",
       "555987                 7                12             0.583333   \n",
       "555988                 2                 3             0.000000   \n",
       "555989                 2                 4             0.666667   \n",
       "555990                 2                 4             0.500000   \n",
       "\n",
       "        lag2_percentCorrect daysSinceLastSession  ...  \\\n",
       "0                       NaN             :0:00:00  ...   \n",
       "1                       NaN             :0:00:00  ...   \n",
       "2                       NaN             :0:00:00  ...   \n",
       "3                       NaN             :0:00:00  ...   \n",
       "4                       NaN             :0:00:00  ...   \n",
       "...                     ...                  ...  ...   \n",
       "555986             0.750000             :4:00:00  ...   \n",
       "555987             0.666667             :4:00:00  ...   \n",
       "555988             0.000000            :11:00:00  ...   \n",
       "555989             0.000000            :11:00:00  ...   \n",
       "555990             0.666667            :11:00:00  ...   \n",
       "\n",
       "           startGraphed_byTargetId  period_graphedByTarget  \\\n",
       "0       2016/03/17 11:49:21.197 PM            :95:00:45:48   \n",
       "1       2016/03/17 11:55:21.329 PM           :144:01:23:08   \n",
       "2       2016/03/18 12:04:06.077 AM           :110:23:09:01   \n",
       "3       2016/03/18 12:05:48.690 AM            :49:00:24:23   \n",
       "4       2016/03/18 12:05:30.186 AM           :200:17:19:45   \n",
       "...                            ...                     ...   \n",
       "555986  2018/03/09 12:19:22.347 AM            :21:14:42:41   \n",
       "555987  2018/03/09 12:19:22.347 AM            :21:14:42:41   \n",
       "555988  2018/03/09 12:19:22.347 AM            :21:14:42:41   \n",
       "555989  2018/03/09 12:19:22.347 AM            :21:14:42:41   \n",
       "555990  2018/03/09 12:19:22.347 AM            :21:14:42:41   \n",
       "\n",
       "       dayBins_graphedByTarget       endGraphed_byTargetId  \\\n",
       "0                 :90:00:00:00  2016/06/21 12:35:09.152 AM   \n",
       "1                 :90:00:00:00   2016/08/09 1:18:29.327 AM   \n",
       "2                 :90:00:00:00  2016/07/06 11:13:06.679 PM   \n",
       "3                  :0:00:00:00  2016/05/06 12:30:11.643 AM   \n",
       "4                :180:00:00:00   2016/10/04 5:25:15.376 PM   \n",
       "...                        ...                         ...   \n",
       "555986             :0:00:00:00   2018/03/30 3:02:03.243 PM   \n",
       "555987             :0:00:00:00   2018/03/30 3:02:03.243 PM   \n",
       "555988             :0:00:00:00   2018/03/30 3:02:03.243 PM   \n",
       "555989             :0:00:00:00   2018/03/30 3:02:03.243 PM   \n",
       "555990             :0:00:00:00   2018/03/30 3:02:03.243 PM   \n",
       "\n",
       "        year_TrialDataDate  month_year_TrialDataDate  monthYr_TrialDataDate  \\\n",
       "0                     2016                   03/2016                      3   \n",
       "1                     2016                   03/2016                      3   \n",
       "2                     2016                   03/2016                      3   \n",
       "3                     2016                   03/2016                      3   \n",
       "4                     2016                   03/2016                      3   \n",
       "...                    ...                       ...                    ...   \n",
       "555986                2018                   03/2018                      3   \n",
       "555987                2018                   03/2018                      3   \n",
       "555988                2018                   03/2018                      3   \n",
       "555989                2018                   03/2018                      3   \n",
       "555990                2018                   03/2018                      3   \n",
       "\n",
       "        dayWk_TrialDataDate  weekYr_TrialDataDate  dayYr_TrialDataDate  \n",
       "0                         5                    12                   77  \n",
       "1                         5                    12                   77  \n",
       "2                         5                    12                   77  \n",
       "3                         5                    12                   77  \n",
       "4                         5                    12                   77  \n",
       "...                     ...                   ...                  ...  \n",
       "555986                    2                    11                   71  \n",
       "555987                    2                    11                   71  \n",
       "555988                    3                    13                   86  \n",
       "555989                    3                    13                   86  \n",
       "555990                    3                    13                   86  \n",
       "\n",
       "[555991 rows x 78 columns]"
      ]
     },
     "execution_count": 2,
     "metadata": {},
     "output_type": "execute_result"
    }
   ],
   "source": [
    "# azureml-core of version 1.0.72 or higher is required\n",
    "# azureml-dataprep[pandas] of version 1.1.34 or higher is required\n",
    "from azureml.core import Workspace, Dataset\n",
    "\n",
    "subscription_id = '5f6bfe11-9433-4a09-ac22-b2271a3c6adb'\n",
    "resource_group = 'AMLResources'\n",
    "workspace_name = 'FSIAMLWorkspace'\n",
    "\n",
    "workspace = Workspace(subscription_id, resource_group, workspace_name)\n",
    "\n",
    "dataset = Dataset.get_by_name(workspace, name='UseCase3_data')\n",
    "dataset.to_pandas_dataframe()"
   ]
  },
  {
   "cell_type": "code",
   "execution_count": 3,
   "id": "9cabd5dd",
   "metadata": {},
   "outputs": [],
   "source": [
    "pd = dataset.to_pandas_dataframe()"
   ]
  },
  {
   "cell_type": "code",
   "execution_count": 4,
   "id": "3f6c97d9",
   "metadata": {},
   "outputs": [
    {
     "data": {
      "text/html": [
       "<div>\n",
       "<style scoped>\n",
       "    .dataframe tbody tr th:only-of-type {\n",
       "        vertical-align: middle;\n",
       "    }\n",
       "\n",
       "    .dataframe tbody tr th {\n",
       "        vertical-align: top;\n",
       "    }\n",
       "\n",
       "    .dataframe thead th {\n",
       "        text-align: right;\n",
       "    }\n",
       "</style>\n",
       "<table border=\"1\" class=\"dataframe\">\n",
       "  <thead>\n",
       "    <tr style=\"text-align: right;\">\n",
       "      <th></th>\n",
       "      <th>ClientId</th>\n",
       "      <th>Gender</th>\n",
       "      <th>BirthDateYear</th>\n",
       "      <th>goalForced_80Percent</th>\n",
       "      <th>percentCorrect</th>\n",
       "      <th>sumValue_byTrial</th>\n",
       "      <th>maxValue_byTrial</th>\n",
       "      <th>lag1_percentCorrect</th>\n",
       "      <th>lag2_percentCorrect</th>\n",
       "      <th>daysSinceLastSession</th>\n",
       "      <th>...</th>\n",
       "      <th>startGraphed_byTargetId</th>\n",
       "      <th>period_graphedByTarget</th>\n",
       "      <th>dayBins_graphedByTarget</th>\n",
       "      <th>endGraphed_byTargetId</th>\n",
       "      <th>year_TrialDataDate</th>\n",
       "      <th>month_year_TrialDataDate</th>\n",
       "      <th>monthYr_TrialDataDate</th>\n",
       "      <th>dayWk_TrialDataDate</th>\n",
       "      <th>weekYr_TrialDataDate</th>\n",
       "      <th>dayYr_TrialDataDate</th>\n",
       "    </tr>\n",
       "  </thead>\n",
       "  <tbody>\n",
       "    <tr>\n",
       "      <th>0</th>\n",
       "      <td>V2_0</td>\n",
       "      <td>Male</td>\n",
       "      <td>2008.0</td>\n",
       "      <td>0.0</td>\n",
       "      <td>0.0</td>\n",
       "      <td>0</td>\n",
       "      <td>3</td>\n",
       "      <td>NaN</td>\n",
       "      <td>NaN</td>\n",
       "      <td>:0:00:00</td>\n",
       "      <td>...</td>\n",
       "      <td>2016/03/17 11:49:21.197 PM</td>\n",
       "      <td>:95:00:45:48</td>\n",
       "      <td>:90:00:00:00</td>\n",
       "      <td>2016/06/21 12:35:09.152 AM</td>\n",
       "      <td>2016</td>\n",
       "      <td>03/2016</td>\n",
       "      <td>3</td>\n",
       "      <td>5</td>\n",
       "      <td>12</td>\n",
       "      <td>77</td>\n",
       "    </tr>\n",
       "    <tr>\n",
       "      <th>1</th>\n",
       "      <td>V2_0</td>\n",
       "      <td>Male</td>\n",
       "      <td>2008.0</td>\n",
       "      <td>0.0</td>\n",
       "      <td>0.0</td>\n",
       "      <td>0</td>\n",
       "      <td>5</td>\n",
       "      <td>NaN</td>\n",
       "      <td>NaN</td>\n",
       "      <td>:0:00:00</td>\n",
       "      <td>...</td>\n",
       "      <td>2016/03/17 11:55:21.329 PM</td>\n",
       "      <td>:144:01:23:08</td>\n",
       "      <td>:90:00:00:00</td>\n",
       "      <td>2016/08/09 1:18:29.327 AM</td>\n",
       "      <td>2016</td>\n",
       "      <td>03/2016</td>\n",
       "      <td>3</td>\n",
       "      <td>5</td>\n",
       "      <td>12</td>\n",
       "      <td>77</td>\n",
       "    </tr>\n",
       "    <tr>\n",
       "      <th>2</th>\n",
       "      <td>V2_0</td>\n",
       "      <td>Male</td>\n",
       "      <td>2008.0</td>\n",
       "      <td>0.0</td>\n",
       "      <td>0.4</td>\n",
       "      <td>2</td>\n",
       "      <td>5</td>\n",
       "      <td>NaN</td>\n",
       "      <td>NaN</td>\n",
       "      <td>:0:00:00</td>\n",
       "      <td>...</td>\n",
       "      <td>2016/03/18 12:04:06.077 AM</td>\n",
       "      <td>:110:23:09:01</td>\n",
       "      <td>:90:00:00:00</td>\n",
       "      <td>2016/07/06 11:13:06.679 PM</td>\n",
       "      <td>2016</td>\n",
       "      <td>03/2016</td>\n",
       "      <td>3</td>\n",
       "      <td>5</td>\n",
       "      <td>12</td>\n",
       "      <td>77</td>\n",
       "    </tr>\n",
       "    <tr>\n",
       "      <th>3</th>\n",
       "      <td>V2_0</td>\n",
       "      <td>Male</td>\n",
       "      <td>2008.0</td>\n",
       "      <td>0.0</td>\n",
       "      <td>0.0</td>\n",
       "      <td>0</td>\n",
       "      <td>6</td>\n",
       "      <td>NaN</td>\n",
       "      <td>NaN</td>\n",
       "      <td>:0:00:00</td>\n",
       "      <td>...</td>\n",
       "      <td>2016/03/18 12:05:48.690 AM</td>\n",
       "      <td>:49:00:24:23</td>\n",
       "      <td>:0:00:00:00</td>\n",
       "      <td>2016/05/06 12:30:11.643 AM</td>\n",
       "      <td>2016</td>\n",
       "      <td>03/2016</td>\n",
       "      <td>3</td>\n",
       "      <td>5</td>\n",
       "      <td>12</td>\n",
       "      <td>77</td>\n",
       "    </tr>\n",
       "    <tr>\n",
       "      <th>4</th>\n",
       "      <td>V2_0</td>\n",
       "      <td>Male</td>\n",
       "      <td>2008.0</td>\n",
       "      <td>0.0</td>\n",
       "      <td>0.2</td>\n",
       "      <td>2</td>\n",
       "      <td>10</td>\n",
       "      <td>NaN</td>\n",
       "      <td>NaN</td>\n",
       "      <td>:0:00:00</td>\n",
       "      <td>...</td>\n",
       "      <td>2016/03/18 12:05:30.186 AM</td>\n",
       "      <td>:200:17:19:45</td>\n",
       "      <td>:180:00:00:00</td>\n",
       "      <td>2016/10/04 5:25:15.376 PM</td>\n",
       "      <td>2016</td>\n",
       "      <td>03/2016</td>\n",
       "      <td>3</td>\n",
       "      <td>5</td>\n",
       "      <td>12</td>\n",
       "      <td>77</td>\n",
       "    </tr>\n",
       "  </tbody>\n",
       "</table>\n",
       "<p>5 rows × 78 columns</p>\n",
       "</div>"
      ],
      "text/plain": [
       "  ClientId Gender  BirthDateYear  goalForced_80Percent  percentCorrect  \\\n",
       "0     V2_0   Male         2008.0                   0.0             0.0   \n",
       "1     V2_0   Male         2008.0                   0.0             0.0   \n",
       "2     V2_0   Male         2008.0                   0.0             0.4   \n",
       "3     V2_0   Male         2008.0                   0.0             0.0   \n",
       "4     V2_0   Male         2008.0                   0.0             0.2   \n",
       "\n",
       "   sumValue_byTrial  maxValue_byTrial  lag1_percentCorrect  \\\n",
       "0                 0                 3                  NaN   \n",
       "1                 0                 5                  NaN   \n",
       "2                 2                 5                  NaN   \n",
       "3                 0                 6                  NaN   \n",
       "4                 2                10                  NaN   \n",
       "\n",
       "   lag2_percentCorrect daysSinceLastSession  ...     startGraphed_byTargetId  \\\n",
       "0                  NaN             :0:00:00  ...  2016/03/17 11:49:21.197 PM   \n",
       "1                  NaN             :0:00:00  ...  2016/03/17 11:55:21.329 PM   \n",
       "2                  NaN             :0:00:00  ...  2016/03/18 12:04:06.077 AM   \n",
       "3                  NaN             :0:00:00  ...  2016/03/18 12:05:48.690 AM   \n",
       "4                  NaN             :0:00:00  ...  2016/03/18 12:05:30.186 AM   \n",
       "\n",
       "   period_graphedByTarget dayBins_graphedByTarget       endGraphed_byTargetId  \\\n",
       "0            :95:00:45:48            :90:00:00:00  2016/06/21 12:35:09.152 AM   \n",
       "1           :144:01:23:08            :90:00:00:00   2016/08/09 1:18:29.327 AM   \n",
       "2           :110:23:09:01            :90:00:00:00  2016/07/06 11:13:06.679 PM   \n",
       "3            :49:00:24:23             :0:00:00:00  2016/05/06 12:30:11.643 AM   \n",
       "4           :200:17:19:45           :180:00:00:00   2016/10/04 5:25:15.376 PM   \n",
       "\n",
       "   year_TrialDataDate  month_year_TrialDataDate  monthYr_TrialDataDate  \\\n",
       "0                2016                   03/2016                      3   \n",
       "1                2016                   03/2016                      3   \n",
       "2                2016                   03/2016                      3   \n",
       "3                2016                   03/2016                      3   \n",
       "4                2016                   03/2016                      3   \n",
       "\n",
       "   dayWk_TrialDataDate  weekYr_TrialDataDate  dayYr_TrialDataDate  \n",
       "0                    5                    12                   77  \n",
       "1                    5                    12                   77  \n",
       "2                    5                    12                   77  \n",
       "3                    5                    12                   77  \n",
       "4                    5                    12                   77  \n",
       "\n",
       "[5 rows x 78 columns]"
      ]
     },
     "execution_count": 4,
     "metadata": {},
     "output_type": "execute_result"
    }
   ],
   "source": [
    "pd.head()"
   ]
  },
  {
   "cell_type": "code",
   "execution_count": 5,
   "id": "97dce8b9",
   "metadata": {},
   "outputs": [
    {
     "data": {
      "text/plain": [
       "(555991, 78)"
      ]
     },
     "execution_count": 5,
     "metadata": {},
     "output_type": "execute_result"
    }
   ],
   "source": [
    "pd.shape"
   ]
  },
  {
   "cell_type": "code",
   "execution_count": 6,
   "id": "cb929ba0",
   "metadata": {},
   "outputs": [
    {
     "data": {
      "text/plain": [
       "ClientId                        0\n",
       "Gender                      11343\n",
       "BirthDateYear                 391\n",
       "goalForced_80Percent         5246\n",
       "percentCorrect               5246\n",
       "                            ...  \n",
       "month_year_TrialDataDate        0\n",
       "monthYr_TrialDataDate           0\n",
       "dayWk_TrialDataDate             0\n",
       "weekYr_TrialDataDate            0\n",
       "dayYr_TrialDataDate             0\n",
       "Length: 78, dtype: int64"
      ]
     },
     "execution_count": 6,
     "metadata": {},
     "output_type": "execute_result"
    }
   ],
   "source": [
    "pd.isna().sum()"
   ]
  },
  {
   "cell_type": "code",
   "execution_count": 9,
   "id": "c8c702f7",
   "metadata": {},
   "outputs": [
    {
     "data": {
      "text/plain": [
       "ClientId                    555991\n",
       "Gender                      544648\n",
       "BirthDateYear               555600\n",
       "goalForced_80Percent        550745\n",
       "percentCorrect              550745\n",
       "                             ...  \n",
       "month_year_TrialDataDate    555991\n",
       "monthYr_TrialDataDate       555991\n",
       "dayWk_TrialDataDate         555991\n",
       "weekYr_TrialDataDate        555991\n",
       "dayYr_TrialDataDate         555991\n",
       "Length: 78, dtype: int64"
      ]
     },
     "execution_count": 9,
     "metadata": {},
     "output_type": "execute_result"
    }
   ],
   "source": [
    "pd.count()"
   ]
  },
  {
   "cell_type": "code",
   "execution_count": 33,
   "id": "1e6d3b25",
   "metadata": {},
   "outputs": [
    {
     "data": {
      "text/plain": [
       "Index(['Gender', 'BirthDateYear', 'goalForced_80Percent', 'percentCorrect',\n",
       "       'lag1_percentCorrect', 'lag2_percentCorrect', 'daysSinceLastSession',\n",
       "       'encodedTrialPhase', 'sessionPeriod', 'SessionGroupEndDate',\n",
       "       'binaryGoalMet', 'binaryGoalInProgress', 'binaryGoalHold',\n",
       "       'binaryGoalDiscontinued', 'GoalMetDate', 'GoalInProgressDate',\n",
       "       'GoalHoldDate', 'GoalDiscontinuedDate'],\n",
       "      dtype='object')"
      ]
     },
     "execution_count": 33,
     "metadata": {},
     "output_type": "execute_result"
    }
   ],
   "source": [
    "pd.columns[pd.isnull().any()]"
   ]
  },
  {
   "cell_type": "code",
   "execution_count": 7,
   "id": "58db7e5d",
   "metadata": {},
   "outputs": [],
   "source": [
    "half_count = len(pd) / 2"
   ]
  },
  {
   "cell_type": "code",
   "execution_count": 9,
   "id": "d313b08f",
   "metadata": {},
   "outputs": [],
   "source": [
    "input_ds = pd"
   ]
  },
  {
   "cell_type": "code",
   "execution_count": 27,
   "id": "9c28b95d",
   "metadata": {},
   "outputs": [],
   "source": [
    "#input_ds = pd.groupby('ClientId').sum()"
   ]
  },
  {
   "cell_type": "code",
   "execution_count": 29,
   "id": "adb8d332",
   "metadata": {},
   "outputs": [
    {
     "data": {
      "text/html": [
       "<div>\n",
       "<style scoped>\n",
       "    .dataframe tbody tr th:only-of-type {\n",
       "        vertical-align: middle;\n",
       "    }\n",
       "\n",
       "    .dataframe tbody tr th {\n",
       "        vertical-align: top;\n",
       "    }\n",
       "\n",
       "    .dataframe thead th {\n",
       "        text-align: right;\n",
       "    }\n",
       "</style>\n",
       "<table border=\"1\" class=\"dataframe\">\n",
       "  <thead>\n",
       "    <tr style=\"text-align: right;\">\n",
       "      <th></th>\n",
       "      <th>BirthDateYear</th>\n",
       "      <th>goalForced_80Percent</th>\n",
       "      <th>percentCorrect</th>\n",
       "      <th>sumValue_byTrial</th>\n",
       "      <th>maxValue_byTrial</th>\n",
       "      <th>lag2_percentCorrect</th>\n",
       "      <th>trialCount_perDate</th>\n",
       "      <th>trialTargetCount_perClient</th>\n",
       "      <th>authorChanges_byTrialId</th>\n",
       "      <th>authorChanges_byTrial_Outcome</th>\n",
       "      <th>...</th>\n",
       "      <th>sessionCount_byGoal_byWeekYear</th>\n",
       "      <th>goalDomainDistribution_byClient</th>\n",
       "      <th>Adaptive</th>\n",
       "      <th>Communication</th>\n",
       "      <th>Language</th>\n",
       "      <th>year_TrialDataDate</th>\n",
       "      <th>monthYr_TrialDataDate</th>\n",
       "      <th>dayWk_TrialDataDate</th>\n",
       "      <th>weekYr_TrialDataDate</th>\n",
       "      <th>dayYr_TrialDataDate</th>\n",
       "    </tr>\n",
       "    <tr>\n",
       "      <th>ClientId</th>\n",
       "      <th></th>\n",
       "      <th></th>\n",
       "      <th></th>\n",
       "      <th></th>\n",
       "      <th></th>\n",
       "      <th></th>\n",
       "      <th></th>\n",
       "      <th></th>\n",
       "      <th></th>\n",
       "      <th></th>\n",
       "      <th></th>\n",
       "      <th></th>\n",
       "      <th></th>\n",
       "      <th></th>\n",
       "      <th></th>\n",
       "      <th></th>\n",
       "      <th></th>\n",
       "      <th></th>\n",
       "      <th></th>\n",
       "      <th></th>\n",
       "      <th></th>\n",
       "    </tr>\n",
       "  </thead>\n",
       "  <tbody>\n",
       "    <tr>\n",
       "      <th>V2_0</th>\n",
       "      <td>1600376.0</td>\n",
       "      <td>353.0</td>\n",
       "      <td>494.644444</td>\n",
       "      <td>1876</td>\n",
       "      <td>2963</td>\n",
       "      <td>12.166667</td>\n",
       "      <td>11019</td>\n",
       "      <td>29743</td>\n",
       "      <td>3875</td>\n",
       "      <td>2426</td>\n",
       "      <td>...</td>\n",
       "      <td>19485</td>\n",
       "      <td>1594</td>\n",
       "      <td>141</td>\n",
       "      <td>656</td>\n",
       "      <td>0</td>\n",
       "      <td>1606809</td>\n",
       "      <td>5312</td>\n",
       "      <td>2968</td>\n",
       "      <td>22312</td>\n",
       "      <td>149474</td>\n",
       "    </tr>\n",
       "    <tr>\n",
       "      <th>V2_1</th>\n",
       "      <td>4068225.0</td>\n",
       "      <td>1497.0</td>\n",
       "      <td>1688.215381</td>\n",
       "      <td>9363</td>\n",
       "      <td>11036</td>\n",
       "      <td>665.101435</td>\n",
       "      <td>17815</td>\n",
       "      <td>734625</td>\n",
       "      <td>124041</td>\n",
       "      <td>69797</td>\n",
       "      <td>...</td>\n",
       "      <td>51411</td>\n",
       "      <td>2025</td>\n",
       "      <td>0</td>\n",
       "      <td>0</td>\n",
       "      <td>2025</td>\n",
       "      <td>4084989</td>\n",
       "      <td>12499</td>\n",
       "      <td>8429</td>\n",
       "      <td>51847</td>\n",
       "      <td>348216</td>\n",
       "    </tr>\n",
       "    <tr>\n",
       "      <th>V2_10</th>\n",
       "      <td>342684.0</td>\n",
       "      <td>112.0</td>\n",
       "      <td>136.176114</td>\n",
       "      <td>819</td>\n",
       "      <td>1003</td>\n",
       "      <td>121.861828</td>\n",
       "      <td>689</td>\n",
       "      <td>23201</td>\n",
       "      <td>1288</td>\n",
       "      <td>738</td>\n",
       "      <td>...</td>\n",
       "      <td>1291</td>\n",
       "      <td>171</td>\n",
       "      <td>171</td>\n",
       "      <td>0</td>\n",
       "      <td>0</td>\n",
       "      <td>344945</td>\n",
       "      <td>1382</td>\n",
       "      <td>744</td>\n",
       "      <td>5854</td>\n",
       "      <td>39556</td>\n",
       "    </tr>\n",
       "    <tr>\n",
       "      <th>V2_100</th>\n",
       "      <td>4938570.0</td>\n",
       "      <td>2058.0</td>\n",
       "      <td>2238.052130</td>\n",
       "      <td>13545</td>\n",
       "      <td>15146</td>\n",
       "      <td>206.152764</td>\n",
       "      <td>24357</td>\n",
       "      <td>1003407</td>\n",
       "      <td>10752</td>\n",
       "      <td>3801</td>\n",
       "      <td>...</td>\n",
       "      <td>90857</td>\n",
       "      <td>2457</td>\n",
       "      <td>0</td>\n",
       "      <td>2457</td>\n",
       "      <td>0</td>\n",
       "      <td>4955567</td>\n",
       "      <td>18937</td>\n",
       "      <td>9831</td>\n",
       "      <td>79400</td>\n",
       "      <td>537269</td>\n",
       "    </tr>\n",
       "    <tr>\n",
       "      <th>V2_1000</th>\n",
       "      <td>108702.0</td>\n",
       "      <td>21.0</td>\n",
       "      <td>24.333333</td>\n",
       "      <td>46</td>\n",
       "      <td>102</td>\n",
       "      <td>22.333333</td>\n",
       "      <td>214</td>\n",
       "      <td>2916</td>\n",
       "      <td>54</td>\n",
       "      <td>4</td>\n",
       "      <td>...</td>\n",
       "      <td>294</td>\n",
       "      <td>54</td>\n",
       "      <td>54</td>\n",
       "      <td>0</td>\n",
       "      <td>0</td>\n",
       "      <td>108961</td>\n",
       "      <td>251</td>\n",
       "      <td>202</td>\n",
       "      <td>1028</td>\n",
       "      <td>6900</td>\n",
       "    </tr>\n",
       "  </tbody>\n",
       "</table>\n",
       "<p>5 rows × 44 columns</p>\n",
       "</div>"
      ],
      "text/plain": [
       "          BirthDateYear  goalForced_80Percent  percentCorrect  \\\n",
       "ClientId                                                        \n",
       "V2_0          1600376.0                 353.0      494.644444   \n",
       "V2_1          4068225.0                1497.0     1688.215381   \n",
       "V2_10          342684.0                 112.0      136.176114   \n",
       "V2_100        4938570.0                2058.0     2238.052130   \n",
       "V2_1000        108702.0                  21.0       24.333333   \n",
       "\n",
       "          sumValue_byTrial  maxValue_byTrial  lag2_percentCorrect  \\\n",
       "ClientId                                                            \n",
       "V2_0                  1876              2963            12.166667   \n",
       "V2_1                  9363             11036           665.101435   \n",
       "V2_10                  819              1003           121.861828   \n",
       "V2_100               13545             15146           206.152764   \n",
       "V2_1000                 46               102            22.333333   \n",
       "\n",
       "          trialCount_perDate  trialTargetCount_perClient  \\\n",
       "ClientId                                                   \n",
       "V2_0                   11019                       29743   \n",
       "V2_1                   17815                      734625   \n",
       "V2_10                    689                       23201   \n",
       "V2_100                 24357                     1003407   \n",
       "V2_1000                  214                        2916   \n",
       "\n",
       "          authorChanges_byTrialId  authorChanges_byTrial_Outcome  ...  \\\n",
       "ClientId                                                          ...   \n",
       "V2_0                         3875                           2426  ...   \n",
       "V2_1                       124041                          69797  ...   \n",
       "V2_10                        1288                            738  ...   \n",
       "V2_100                      10752                           3801  ...   \n",
       "V2_1000                        54                              4  ...   \n",
       "\n",
       "          sessionCount_byGoal_byWeekYear  goalDomainDistribution_byClient  \\\n",
       "ClientId                                                                    \n",
       "V2_0                               19485                             1594   \n",
       "V2_1                               51411                             2025   \n",
       "V2_10                               1291                              171   \n",
       "V2_100                             90857                             2457   \n",
       "V2_1000                              294                               54   \n",
       "\n",
       "          Adaptive  Communication  Language  year_TrialDataDate  \\\n",
       "ClientId                                                          \n",
       "V2_0           141            656         0             1606809   \n",
       "V2_1             0              0      2025             4084989   \n",
       "V2_10          171              0         0              344945   \n",
       "V2_100           0           2457         0             4955567   \n",
       "V2_1000         54              0         0              108961   \n",
       "\n",
       "          monthYr_TrialDataDate  dayWk_TrialDataDate  weekYr_TrialDataDate  \\\n",
       "ClientId                                                                     \n",
       "V2_0                       5312                 2968                 22312   \n",
       "V2_1                      12499                 8429                 51847   \n",
       "V2_10                      1382                  744                  5854   \n",
       "V2_100                    18937                 9831                 79400   \n",
       "V2_1000                     251                  202                  1028   \n",
       "\n",
       "          dayYr_TrialDataDate  \n",
       "ClientId                       \n",
       "V2_0                   149474  \n",
       "V2_1                   348216  \n",
       "V2_10                   39556  \n",
       "V2_100                 537269  \n",
       "V2_1000                  6900  \n",
       "\n",
       "[5 rows x 44 columns]"
      ]
     },
     "execution_count": 29,
     "metadata": {},
     "output_type": "execute_result"
    }
   ],
   "source": [
    "#input_ds.head()"
   ]
  },
  {
   "cell_type": "code",
   "execution_count": 20,
   "id": "c2bda79d",
   "metadata": {},
   "outputs": [],
   "source": [
    "input_ds_sessions = pd.groupby(['ClientId','TrialAuthorID']).sum()"
   ]
  },
  {
   "cell_type": "code",
   "execution_count": 23,
   "id": "d6f72a74",
   "metadata": {},
   "outputs": [
    {
     "name": "stderr",
     "output_type": "stream",
     "text": [
      "/anaconda/envs/azureml_py36/lib/python3.6/site-packages/ipykernel_launcher.py:1: FutureWarning: Indexing with multiple keys (implicitly converted to a tuple of keys) will be deprecated, use a list instead.\n",
      "  \"\"\"Entry point for launching an IPython kernel.\n"
     ]
    },
    {
     "data": {
      "text/html": [
       "<div>\n",
       "<style scoped>\n",
       "    .dataframe tbody tr th:only-of-type {\n",
       "        vertical-align: middle;\n",
       "    }\n",
       "\n",
       "    .dataframe tbody tr th {\n",
       "        vertical-align: top;\n",
       "    }\n",
       "\n",
       "    .dataframe thead th {\n",
       "        text-align: right;\n",
       "    }\n",
       "</style>\n",
       "<table border=\"1\" class=\"dataframe\">\n",
       "  <thead>\n",
       "    <tr style=\"text-align: right;\">\n",
       "      <th></th>\n",
       "      <th></th>\n",
       "      <th>ClientId</th>\n",
       "      <th>TrialAuthorID</th>\n",
       "      <th>CurrentGoalStatus</th>\n",
       "    </tr>\n",
       "    <tr>\n",
       "      <th>ClientId</th>\n",
       "      <th>TrialAuthorID</th>\n",
       "      <th></th>\n",
       "      <th></th>\n",
       "      <th></th>\n",
       "    </tr>\n",
       "  </thead>\n",
       "  <tbody>\n",
       "    <tr>\n",
       "      <th rowspan=\"5\" valign=\"top\">V2_0</th>\n",
       "      <th>V13_211</th>\n",
       "      <td>V2_0</td>\n",
       "      <td>V13_211</td>\n",
       "      <td>Met</td>\n",
       "    </tr>\n",
       "    <tr>\n",
       "      <th>V13_254</th>\n",
       "      <td>V2_0</td>\n",
       "      <td>V13_254</td>\n",
       "      <td>Met</td>\n",
       "    </tr>\n",
       "    <tr>\n",
       "      <th>V13_255</th>\n",
       "      <td>V2_0</td>\n",
       "      <td>V13_255</td>\n",
       "      <td>In Progress</td>\n",
       "    </tr>\n",
       "    <tr>\n",
       "      <th>V13_256</th>\n",
       "      <td>V2_0</td>\n",
       "      <td>V13_256</td>\n",
       "      <td>Met</td>\n",
       "    </tr>\n",
       "    <tr>\n",
       "      <th>V13_257</th>\n",
       "      <td>V2_0</td>\n",
       "      <td>V13_257</td>\n",
       "      <td>Met</td>\n",
       "    </tr>\n",
       "    <tr>\n",
       "      <th>...</th>\n",
       "      <th>...</th>\n",
       "      <td>...</td>\n",
       "      <td>...</td>\n",
       "      <td>...</td>\n",
       "    </tr>\n",
       "    <tr>\n",
       "      <th rowspan=\"5\" valign=\"top\">V2_999</th>\n",
       "      <th>V13_2549</th>\n",
       "      <td>V2_999</td>\n",
       "      <td>V13_2549</td>\n",
       "      <td>In Progress</td>\n",
       "    </tr>\n",
       "    <tr>\n",
       "      <th>V13_2551</th>\n",
       "      <td>V2_999</td>\n",
       "      <td>V13_2551</td>\n",
       "      <td>In Progress</td>\n",
       "    </tr>\n",
       "    <tr>\n",
       "      <th>V13_2555</th>\n",
       "      <td>V2_999</td>\n",
       "      <td>V13_2555</td>\n",
       "      <td>In Progress</td>\n",
       "    </tr>\n",
       "    <tr>\n",
       "      <th>V13_2556</th>\n",
       "      <td>V2_999</td>\n",
       "      <td>V13_2556</td>\n",
       "      <td>In Progress</td>\n",
       "    </tr>\n",
       "    <tr>\n",
       "      <th>V13_2559</th>\n",
       "      <td>V2_999</td>\n",
       "      <td>V13_2559</td>\n",
       "      <td>In Progress</td>\n",
       "    </tr>\n",
       "  </tbody>\n",
       "</table>\n",
       "<p>8036 rows × 3 columns</p>\n",
       "</div>"
      ],
      "text/plain": [
       "                       ClientId TrialAuthorID CurrentGoalStatus\n",
       "ClientId TrialAuthorID                                         \n",
       "V2_0     V13_211           V2_0       V13_211               Met\n",
       "         V13_254           V2_0       V13_254               Met\n",
       "         V13_255           V2_0       V13_255       In Progress\n",
       "         V13_256           V2_0       V13_256               Met\n",
       "         V13_257           V2_0       V13_257               Met\n",
       "...                         ...           ...               ...\n",
       "V2_999   V13_2549        V2_999      V13_2549       In Progress\n",
       "         V13_2551        V2_999      V13_2551       In Progress\n",
       "         V13_2555        V2_999      V13_2555       In Progress\n",
       "         V13_2556        V2_999      V13_2556       In Progress\n",
       "         V13_2559        V2_999      V13_2559       In Progress\n",
       "\n",
       "[8036 rows x 3 columns]"
      ]
     },
     "execution_count": 23,
     "metadata": {},
     "output_type": "execute_result"
    }
   ],
   "source": [
    "input_ds_sessions['ClientId','TrialAuthorID','CurrentGoalStatus'].first()"
   ]
  },
  {
   "cell_type": "code",
   "execution_count": 12,
   "id": "d523d942",
   "metadata": {},
   "outputs": [
    {
     "data": {
      "text/html": [
       "<div>\n",
       "<style scoped>\n",
       "    .dataframe tbody tr th:only-of-type {\n",
       "        vertical-align: middle;\n",
       "    }\n",
       "\n",
       "    .dataframe tbody tr th {\n",
       "        vertical-align: top;\n",
       "    }\n",
       "\n",
       "    .dataframe thead th {\n",
       "        text-align: right;\n",
       "    }\n",
       "</style>\n",
       "<table border=\"1\" class=\"dataframe\">\n",
       "  <thead>\n",
       "    <tr style=\"text-align: right;\">\n",
       "      <th></th>\n",
       "      <th>Gender</th>\n",
       "      <th>BirthDateYear</th>\n",
       "      <th>goalForced_80Percent</th>\n",
       "      <th>percentCorrect</th>\n",
       "      <th>sumValue_byTrial</th>\n",
       "      <th>maxValue_byTrial</th>\n",
       "      <th>lag1_percentCorrect</th>\n",
       "      <th>lag2_percentCorrect</th>\n",
       "      <th>daysSinceLastSession</th>\n",
       "      <th>trialCount_perDate</th>\n",
       "      <th>...</th>\n",
       "      <th>startGraphed_byTargetId</th>\n",
       "      <th>period_graphedByTarget</th>\n",
       "      <th>dayBins_graphedByTarget</th>\n",
       "      <th>endGraphed_byTargetId</th>\n",
       "      <th>year_TrialDataDate</th>\n",
       "      <th>month_year_TrialDataDate</th>\n",
       "      <th>monthYr_TrialDataDate</th>\n",
       "      <th>dayWk_TrialDataDate</th>\n",
       "      <th>weekYr_TrialDataDate</th>\n",
       "      <th>dayYr_TrialDataDate</th>\n",
       "    </tr>\n",
       "    <tr>\n",
       "      <th>ClientId</th>\n",
       "      <th></th>\n",
       "      <th></th>\n",
       "      <th></th>\n",
       "      <th></th>\n",
       "      <th></th>\n",
       "      <th></th>\n",
       "      <th></th>\n",
       "      <th></th>\n",
       "      <th></th>\n",
       "      <th></th>\n",
       "      <th></th>\n",
       "      <th></th>\n",
       "      <th></th>\n",
       "      <th></th>\n",
       "      <th></th>\n",
       "      <th></th>\n",
       "      <th></th>\n",
       "      <th></th>\n",
       "      <th></th>\n",
       "      <th></th>\n",
       "      <th></th>\n",
       "    </tr>\n",
       "  </thead>\n",
       "  <tbody>\n",
       "    <tr>\n",
       "      <th>V2_0</th>\n",
       "      <td>797</td>\n",
       "      <td>797</td>\n",
       "      <td>795</td>\n",
       "      <td>795</td>\n",
       "      <td>797</td>\n",
       "      <td>797</td>\n",
       "      <td>20</td>\n",
       "      <td>29</td>\n",
       "      <td>797</td>\n",
       "      <td>797</td>\n",
       "      <td>...</td>\n",
       "      <td>797</td>\n",
       "      <td>797</td>\n",
       "      <td>797</td>\n",
       "      <td>797</td>\n",
       "      <td>797</td>\n",
       "      <td>797</td>\n",
       "      <td>797</td>\n",
       "      <td>797</td>\n",
       "      <td>797</td>\n",
       "      <td>797</td>\n",
       "    </tr>\n",
       "    <tr>\n",
       "      <th>V2_1</th>\n",
       "      <td>2025</td>\n",
       "      <td>2025</td>\n",
       "      <td>1988</td>\n",
       "      <td>1988</td>\n",
       "      <td>2025</td>\n",
       "      <td>2025</td>\n",
       "      <td>807</td>\n",
       "      <td>791</td>\n",
       "      <td>2025</td>\n",
       "      <td>2025</td>\n",
       "      <td>...</td>\n",
       "      <td>2025</td>\n",
       "      <td>2025</td>\n",
       "      <td>2025</td>\n",
       "      <td>2025</td>\n",
       "      <td>2025</td>\n",
       "      <td>2025</td>\n",
       "      <td>2025</td>\n",
       "      <td>2025</td>\n",
       "      <td>2025</td>\n",
       "      <td>2025</td>\n",
       "    </tr>\n",
       "    <tr>\n",
       "      <th>V2_10</th>\n",
       "      <td>171</td>\n",
       "      <td>171</td>\n",
       "      <td>171</td>\n",
       "      <td>171</td>\n",
       "      <td>171</td>\n",
       "      <td>171</td>\n",
       "      <td>153</td>\n",
       "      <td>155</td>\n",
       "      <td>170</td>\n",
       "      <td>171</td>\n",
       "      <td>...</td>\n",
       "      <td>171</td>\n",
       "      <td>171</td>\n",
       "      <td>171</td>\n",
       "      <td>171</td>\n",
       "      <td>171</td>\n",
       "      <td>171</td>\n",
       "      <td>171</td>\n",
       "      <td>171</td>\n",
       "      <td>171</td>\n",
       "      <td>171</td>\n",
       "    </tr>\n",
       "    <tr>\n",
       "      <th>V2_100</th>\n",
       "      <td>2457</td>\n",
       "      <td>2457</td>\n",
       "      <td>2457</td>\n",
       "      <td>2457</td>\n",
       "      <td>2457</td>\n",
       "      <td>2457</td>\n",
       "      <td>406</td>\n",
       "      <td>236</td>\n",
       "      <td>2457</td>\n",
       "      <td>2457</td>\n",
       "      <td>...</td>\n",
       "      <td>2457</td>\n",
       "      <td>2457</td>\n",
       "      <td>2457</td>\n",
       "      <td>2457</td>\n",
       "      <td>2457</td>\n",
       "      <td>2457</td>\n",
       "      <td>2457</td>\n",
       "      <td>2457</td>\n",
       "      <td>2457</td>\n",
       "      <td>2457</td>\n",
       "    </tr>\n",
       "    <tr>\n",
       "      <th>V2_1000</th>\n",
       "      <td>54</td>\n",
       "      <td>54</td>\n",
       "      <td>50</td>\n",
       "      <td>50</td>\n",
       "      <td>54</td>\n",
       "      <td>54</td>\n",
       "      <td>49</td>\n",
       "      <td>48</td>\n",
       "      <td>54</td>\n",
       "      <td>54</td>\n",
       "      <td>...</td>\n",
       "      <td>54</td>\n",
       "      <td>54</td>\n",
       "      <td>54</td>\n",
       "      <td>54</td>\n",
       "      <td>54</td>\n",
       "      <td>54</td>\n",
       "      <td>54</td>\n",
       "      <td>54</td>\n",
       "      <td>54</td>\n",
       "      <td>54</td>\n",
       "    </tr>\n",
       "    <tr>\n",
       "      <th>...</th>\n",
       "      <td>...</td>\n",
       "      <td>...</td>\n",
       "      <td>...</td>\n",
       "      <td>...</td>\n",
       "      <td>...</td>\n",
       "      <td>...</td>\n",
       "      <td>...</td>\n",
       "      <td>...</td>\n",
       "      <td>...</td>\n",
       "      <td>...</td>\n",
       "      <td>...</td>\n",
       "      <td>...</td>\n",
       "      <td>...</td>\n",
       "      <td>...</td>\n",
       "      <td>...</td>\n",
       "      <td>...</td>\n",
       "      <td>...</td>\n",
       "      <td>...</td>\n",
       "      <td>...</td>\n",
       "      <td>...</td>\n",
       "      <td>...</td>\n",
       "    </tr>\n",
       "    <tr>\n",
       "      <th>V2_995</th>\n",
       "      <td>402</td>\n",
       "      <td>402</td>\n",
       "      <td>402</td>\n",
       "      <td>402</td>\n",
       "      <td>402</td>\n",
       "      <td>402</td>\n",
       "      <td>401</td>\n",
       "      <td>400</td>\n",
       "      <td>402</td>\n",
       "      <td>402</td>\n",
       "      <td>...</td>\n",
       "      <td>402</td>\n",
       "      <td>402</td>\n",
       "      <td>402</td>\n",
       "      <td>402</td>\n",
       "      <td>402</td>\n",
       "      <td>402</td>\n",
       "      <td>402</td>\n",
       "      <td>402</td>\n",
       "      <td>402</td>\n",
       "      <td>402</td>\n",
       "    </tr>\n",
       "    <tr>\n",
       "      <th>V2_996</th>\n",
       "      <td>121</td>\n",
       "      <td>121</td>\n",
       "      <td>118</td>\n",
       "      <td>118</td>\n",
       "      <td>121</td>\n",
       "      <td>121</td>\n",
       "      <td>75</td>\n",
       "      <td>85</td>\n",
       "      <td>121</td>\n",
       "      <td>121</td>\n",
       "      <td>...</td>\n",
       "      <td>121</td>\n",
       "      <td>121</td>\n",
       "      <td>121</td>\n",
       "      <td>121</td>\n",
       "      <td>121</td>\n",
       "      <td>121</td>\n",
       "      <td>121</td>\n",
       "      <td>121</td>\n",
       "      <td>121</td>\n",
       "      <td>121</td>\n",
       "    </tr>\n",
       "    <tr>\n",
       "      <th>V2_997</th>\n",
       "      <td>1438</td>\n",
       "      <td>1438</td>\n",
       "      <td>1437</td>\n",
       "      <td>1437</td>\n",
       "      <td>1438</td>\n",
       "      <td>1438</td>\n",
       "      <td>355</td>\n",
       "      <td>277</td>\n",
       "      <td>1438</td>\n",
       "      <td>1438</td>\n",
       "      <td>...</td>\n",
       "      <td>1438</td>\n",
       "      <td>1438</td>\n",
       "      <td>1438</td>\n",
       "      <td>1438</td>\n",
       "      <td>1438</td>\n",
       "      <td>1438</td>\n",
       "      <td>1438</td>\n",
       "      <td>1438</td>\n",
       "      <td>1438</td>\n",
       "      <td>1438</td>\n",
       "    </tr>\n",
       "    <tr>\n",
       "      <th>V2_998</th>\n",
       "      <td>573</td>\n",
       "      <td>573</td>\n",
       "      <td>550</td>\n",
       "      <td>550</td>\n",
       "      <td>573</td>\n",
       "      <td>573</td>\n",
       "      <td>239</td>\n",
       "      <td>205</td>\n",
       "      <td>573</td>\n",
       "      <td>573</td>\n",
       "      <td>...</td>\n",
       "      <td>573</td>\n",
       "      <td>573</td>\n",
       "      <td>573</td>\n",
       "      <td>573</td>\n",
       "      <td>573</td>\n",
       "      <td>573</td>\n",
       "      <td>573</td>\n",
       "      <td>573</td>\n",
       "      <td>573</td>\n",
       "      <td>573</td>\n",
       "    </tr>\n",
       "    <tr>\n",
       "      <th>V2_999</th>\n",
       "      <td>63</td>\n",
       "      <td>63</td>\n",
       "      <td>63</td>\n",
       "      <td>63</td>\n",
       "      <td>63</td>\n",
       "      <td>63</td>\n",
       "      <td>62</td>\n",
       "      <td>61</td>\n",
       "      <td>63</td>\n",
       "      <td>63</td>\n",
       "      <td>...</td>\n",
       "      <td>63</td>\n",
       "      <td>63</td>\n",
       "      <td>63</td>\n",
       "      <td>63</td>\n",
       "      <td>63</td>\n",
       "      <td>63</td>\n",
       "      <td>63</td>\n",
       "      <td>63</td>\n",
       "      <td>63</td>\n",
       "      <td>63</td>\n",
       "    </tr>\n",
       "  </tbody>\n",
       "</table>\n",
       "<p>1027 rows × 77 columns</p>\n",
       "</div>"
      ],
      "text/plain": [
       "          Gender  BirthDateYear  goalForced_80Percent  percentCorrect  \\\n",
       "ClientId                                                                \n",
       "V2_0         797            797                   795             795   \n",
       "V2_1        2025           2025                  1988            1988   \n",
       "V2_10        171            171                   171             171   \n",
       "V2_100      2457           2457                  2457            2457   \n",
       "V2_1000       54             54                    50              50   \n",
       "...          ...            ...                   ...             ...   \n",
       "V2_995       402            402                   402             402   \n",
       "V2_996       121            121                   118             118   \n",
       "V2_997      1438           1438                  1437            1437   \n",
       "V2_998       573            573                   550             550   \n",
       "V2_999        63             63                    63              63   \n",
       "\n",
       "          sumValue_byTrial  maxValue_byTrial  lag1_percentCorrect  \\\n",
       "ClientId                                                            \n",
       "V2_0                   797               797                   20   \n",
       "V2_1                  2025              2025                  807   \n",
       "V2_10                  171               171                  153   \n",
       "V2_100                2457              2457                  406   \n",
       "V2_1000                 54                54                   49   \n",
       "...                    ...               ...                  ...   \n",
       "V2_995                 402               402                  401   \n",
       "V2_996                 121               121                   75   \n",
       "V2_997                1438              1438                  355   \n",
       "V2_998                 573               573                  239   \n",
       "V2_999                  63                63                   62   \n",
       "\n",
       "          lag2_percentCorrect  daysSinceLastSession  trialCount_perDate  ...  \\\n",
       "ClientId                                                                 ...   \n",
       "V2_0                       29                   797                 797  ...   \n",
       "V2_1                      791                  2025                2025  ...   \n",
       "V2_10                     155                   170                 171  ...   \n",
       "V2_100                    236                  2457                2457  ...   \n",
       "V2_1000                    48                    54                  54  ...   \n",
       "...                       ...                   ...                 ...  ...   \n",
       "V2_995                    400                   402                 402  ...   \n",
       "V2_996                     85                   121                 121  ...   \n",
       "V2_997                    277                  1438                1438  ...   \n",
       "V2_998                    205                   573                 573  ...   \n",
       "V2_999                     61                    63                  63  ...   \n",
       "\n",
       "          startGraphed_byTargetId  period_graphedByTarget  \\\n",
       "ClientId                                                    \n",
       "V2_0                          797                     797   \n",
       "V2_1                         2025                    2025   \n",
       "V2_10                         171                     171   \n",
       "V2_100                       2457                    2457   \n",
       "V2_1000                        54                      54   \n",
       "...                           ...                     ...   \n",
       "V2_995                        402                     402   \n",
       "V2_996                        121                     121   \n",
       "V2_997                       1438                    1438   \n",
       "V2_998                        573                     573   \n",
       "V2_999                         63                      63   \n",
       "\n",
       "          dayBins_graphedByTarget  endGraphed_byTargetId  year_TrialDataDate  \\\n",
       "ClientId                                                                       \n",
       "V2_0                          797                    797                 797   \n",
       "V2_1                         2025                   2025                2025   \n",
       "V2_10                         171                    171                 171   \n",
       "V2_100                       2457                   2457                2457   \n",
       "V2_1000                        54                     54                  54   \n",
       "...                           ...                    ...                 ...   \n",
       "V2_995                        402                    402                 402   \n",
       "V2_996                        121                    121                 121   \n",
       "V2_997                       1438                   1438                1438   \n",
       "V2_998                        573                    573                 573   \n",
       "V2_999                         63                     63                  63   \n",
       "\n",
       "          month_year_TrialDataDate  monthYr_TrialDataDate  \\\n",
       "ClientId                                                    \n",
       "V2_0                           797                    797   \n",
       "V2_1                          2025                   2025   \n",
       "V2_10                          171                    171   \n",
       "V2_100                        2457                   2457   \n",
       "V2_1000                         54                     54   \n",
       "...                            ...                    ...   \n",
       "V2_995                         402                    402   \n",
       "V2_996                         121                    121   \n",
       "V2_997                        1438                   1438   \n",
       "V2_998                         573                    573   \n",
       "V2_999                          63                     63   \n",
       "\n",
       "          dayWk_TrialDataDate  weekYr_TrialDataDate  dayYr_TrialDataDate  \n",
       "ClientId                                                                  \n",
       "V2_0                      797                   797                  797  \n",
       "V2_1                     2025                  2025                 2025  \n",
       "V2_10                     171                   171                  171  \n",
       "V2_100                   2457                  2457                 2457  \n",
       "V2_1000                    54                    54                   54  \n",
       "...                       ...                   ...                  ...  \n",
       "V2_995                    402                   402                  402  \n",
       "V2_996                    121                   121                  121  \n",
       "V2_997                   1438                  1438                 1438  \n",
       "V2_998                    573                   573                  573  \n",
       "V2_999                     63                    63                   63  \n",
       "\n",
       "[1027 rows x 77 columns]"
      ]
     },
     "execution_count": 12,
     "metadata": {},
     "output_type": "execute_result"
    }
   ],
   "source": [
    "input_ds.count()"
   ]
  },
  {
   "cell_type": "code",
   "execution_count": null,
   "id": "dce1df96",
   "metadata": {},
   "outputs": [],
   "source": [
    "input_ds.get_group('V2_0')"
   ]
  },
  {
   "cell_type": "code",
   "execution_count": 36,
   "id": "96e41035",
   "metadata": {},
   "outputs": [
    {
     "data": {
      "text/html": [
       "<div>\n",
       "<style scoped>\n",
       "    .dataframe tbody tr th:only-of-type {\n",
       "        vertical-align: middle;\n",
       "    }\n",
       "\n",
       "    .dataframe tbody tr th {\n",
       "        vertical-align: top;\n",
       "    }\n",
       "\n",
       "    .dataframe thead th {\n",
       "        text-align: right;\n",
       "    }\n",
       "</style>\n",
       "<table border=\"1\" class=\"dataframe\">\n",
       "  <thead>\n",
       "    <tr style=\"text-align: right;\">\n",
       "      <th></th>\n",
       "      <th>ClientId</th>\n",
       "      <th>Gender</th>\n",
       "      <th>BirthDateYear</th>\n",
       "      <th>goalForced_80Percent</th>\n",
       "      <th>percentCorrect</th>\n",
       "      <th>sumValue_byTrial</th>\n",
       "      <th>maxValue_byTrial</th>\n",
       "      <th>lag1_percentCorrect</th>\n",
       "      <th>lag2_percentCorrect</th>\n",
       "      <th>daysSinceLastSession</th>\n",
       "      <th>...</th>\n",
       "      <th>startGraphed_byTargetId</th>\n",
       "      <th>period_graphedByTarget</th>\n",
       "      <th>dayBins_graphedByTarget</th>\n",
       "      <th>endGraphed_byTargetId</th>\n",
       "      <th>year_TrialDataDate</th>\n",
       "      <th>month_year_TrialDataDate</th>\n",
       "      <th>monthYr_TrialDataDate</th>\n",
       "      <th>dayWk_TrialDataDate</th>\n",
       "      <th>weekYr_TrialDataDate</th>\n",
       "      <th>dayYr_TrialDataDate</th>\n",
       "    </tr>\n",
       "  </thead>\n",
       "  <tbody>\n",
       "    <tr>\n",
       "      <th>0</th>\n",
       "      <td>V2_0</td>\n",
       "      <td>Male</td>\n",
       "      <td>2008.0</td>\n",
       "      <td>0.0</td>\n",
       "      <td>0.0</td>\n",
       "      <td>0</td>\n",
       "      <td>3</td>\n",
       "      <td>None</td>\n",
       "      <td>NaN</td>\n",
       "      <td>:0:00:00</td>\n",
       "      <td>...</td>\n",
       "      <td>2016/03/17 11:49:21.197 PM</td>\n",
       "      <td>:95:00:45:48</td>\n",
       "      <td>:90:00:00:00</td>\n",
       "      <td>2016/06/21 12:35:09.152 AM</td>\n",
       "      <td>2016</td>\n",
       "      <td>03/2016</td>\n",
       "      <td>3</td>\n",
       "      <td>5</td>\n",
       "      <td>12</td>\n",
       "      <td>77</td>\n",
       "    </tr>\n",
       "    <tr>\n",
       "      <th>1</th>\n",
       "      <td>V2_0</td>\n",
       "      <td>Male</td>\n",
       "      <td>2008.0</td>\n",
       "      <td>0.0</td>\n",
       "      <td>0.0</td>\n",
       "      <td>0</td>\n",
       "      <td>5</td>\n",
       "      <td>None</td>\n",
       "      <td>NaN</td>\n",
       "      <td>:0:00:00</td>\n",
       "      <td>...</td>\n",
       "      <td>2016/03/17 11:55:21.329 PM</td>\n",
       "      <td>:144:01:23:08</td>\n",
       "      <td>:90:00:00:00</td>\n",
       "      <td>2016/08/09 1:18:29.327 AM</td>\n",
       "      <td>2016</td>\n",
       "      <td>03/2016</td>\n",
       "      <td>3</td>\n",
       "      <td>5</td>\n",
       "      <td>12</td>\n",
       "      <td>77</td>\n",
       "    </tr>\n",
       "    <tr>\n",
       "      <th>2</th>\n",
       "      <td>V2_0</td>\n",
       "      <td>Male</td>\n",
       "      <td>2008.0</td>\n",
       "      <td>0.0</td>\n",
       "      <td>0.4</td>\n",
       "      <td>2</td>\n",
       "      <td>5</td>\n",
       "      <td>None</td>\n",
       "      <td>NaN</td>\n",
       "      <td>:0:00:00</td>\n",
       "      <td>...</td>\n",
       "      <td>2016/03/18 12:04:06.077 AM</td>\n",
       "      <td>:110:23:09:01</td>\n",
       "      <td>:90:00:00:00</td>\n",
       "      <td>2016/07/06 11:13:06.679 PM</td>\n",
       "      <td>2016</td>\n",
       "      <td>03/2016</td>\n",
       "      <td>3</td>\n",
       "      <td>5</td>\n",
       "      <td>12</td>\n",
       "      <td>77</td>\n",
       "    </tr>\n",
       "    <tr>\n",
       "      <th>3</th>\n",
       "      <td>V2_0</td>\n",
       "      <td>Male</td>\n",
       "      <td>2008.0</td>\n",
       "      <td>0.0</td>\n",
       "      <td>0.0</td>\n",
       "      <td>0</td>\n",
       "      <td>6</td>\n",
       "      <td>None</td>\n",
       "      <td>NaN</td>\n",
       "      <td>:0:00:00</td>\n",
       "      <td>...</td>\n",
       "      <td>2016/03/18 12:05:48.690 AM</td>\n",
       "      <td>:49:00:24:23</td>\n",
       "      <td>:0:00:00:00</td>\n",
       "      <td>2016/05/06 12:30:11.643 AM</td>\n",
       "      <td>2016</td>\n",
       "      <td>03/2016</td>\n",
       "      <td>3</td>\n",
       "      <td>5</td>\n",
       "      <td>12</td>\n",
       "      <td>77</td>\n",
       "    </tr>\n",
       "    <tr>\n",
       "      <th>4</th>\n",
       "      <td>V2_0</td>\n",
       "      <td>Male</td>\n",
       "      <td>2008.0</td>\n",
       "      <td>0.0</td>\n",
       "      <td>0.2</td>\n",
       "      <td>2</td>\n",
       "      <td>10</td>\n",
       "      <td>None</td>\n",
       "      <td>NaN</td>\n",
       "      <td>:0:00:00</td>\n",
       "      <td>...</td>\n",
       "      <td>2016/03/18 12:05:30.186 AM</td>\n",
       "      <td>:200:17:19:45</td>\n",
       "      <td>:180:00:00:00</td>\n",
       "      <td>2016/10/04 5:25:15.376 PM</td>\n",
       "      <td>2016</td>\n",
       "      <td>03/2016</td>\n",
       "      <td>3</td>\n",
       "      <td>5</td>\n",
       "      <td>12</td>\n",
       "      <td>77</td>\n",
       "    </tr>\n",
       "  </tbody>\n",
       "</table>\n",
       "<p>5 rows × 78 columns</p>\n",
       "</div>"
      ],
      "text/plain": [
       "  ClientId Gender  BirthDateYear  goalForced_80Percent  percentCorrect  \\\n",
       "0     V2_0   Male         2008.0                   0.0             0.0   \n",
       "1     V2_0   Male         2008.0                   0.0             0.0   \n",
       "2     V2_0   Male         2008.0                   0.0             0.4   \n",
       "3     V2_0   Male         2008.0                   0.0             0.0   \n",
       "4     V2_0   Male         2008.0                   0.0             0.2   \n",
       "\n",
       "   sumValue_byTrial  maxValue_byTrial lag1_percentCorrect  \\\n",
       "0                 0                 3                None   \n",
       "1                 0                 5                None   \n",
       "2                 2                 5                None   \n",
       "3                 0                 6                None   \n",
       "4                 2                10                None   \n",
       "\n",
       "   lag2_percentCorrect daysSinceLastSession  ...     startGraphed_byTargetId  \\\n",
       "0                  NaN             :0:00:00  ...  2016/03/17 11:49:21.197 PM   \n",
       "1                  NaN             :0:00:00  ...  2016/03/17 11:55:21.329 PM   \n",
       "2                  NaN             :0:00:00  ...  2016/03/18 12:04:06.077 AM   \n",
       "3                  NaN             :0:00:00  ...  2016/03/18 12:05:48.690 AM   \n",
       "4                  NaN             :0:00:00  ...  2016/03/18 12:05:30.186 AM   \n",
       "\n",
       "   period_graphedByTarget dayBins_graphedByTarget       endGraphed_byTargetId  \\\n",
       "0            :95:00:45:48            :90:00:00:00  2016/06/21 12:35:09.152 AM   \n",
       "1           :144:01:23:08            :90:00:00:00   2016/08/09 1:18:29.327 AM   \n",
       "2           :110:23:09:01            :90:00:00:00  2016/07/06 11:13:06.679 PM   \n",
       "3            :49:00:24:23             :0:00:00:00  2016/05/06 12:30:11.643 AM   \n",
       "4           :200:17:19:45           :180:00:00:00   2016/10/04 5:25:15.376 PM   \n",
       "\n",
       "   year_TrialDataDate  month_year_TrialDataDate  monthYr_TrialDataDate  \\\n",
       "0                2016                   03/2016                      3   \n",
       "1                2016                   03/2016                      3   \n",
       "2                2016                   03/2016                      3   \n",
       "3                2016                   03/2016                      3   \n",
       "4                2016                   03/2016                      3   \n",
       "\n",
       "   dayWk_TrialDataDate  weekYr_TrialDataDate  dayYr_TrialDataDate  \n",
       "0                    5                    12                   77  \n",
       "1                    5                    12                   77  \n",
       "2                    5                    12                   77  \n",
       "3                    5                    12                   77  \n",
       "4                    5                    12                   77  \n",
       "\n",
       "[5 rows x 78 columns]"
      ]
     },
     "execution_count": 36,
     "metadata": {},
     "output_type": "execute_result"
    }
   ],
   "source": [
    "\n",
    "input_ds.head()"
   ]
  },
  {
   "cell_type": "code",
   "execution_count": 10,
   "id": "cb300fe3",
   "metadata": {},
   "outputs": [],
   "source": [
    "#Drop all columns which are missing more that 50% data as imputing that would not\n",
    "input_ds.dropna(thresh=half_count,axis=1,inplace=True)"
   ]
  },
  {
   "cell_type": "code",
   "execution_count": 11,
   "id": "d3d2cb82",
   "metadata": {},
   "outputs": [
    {
     "data": {
      "text/plain": [
       "ClientId                     object\n",
       "Gender                       object\n",
       "BirthDateYear               float64\n",
       "goalForced_80Percent        float64\n",
       "percentCorrect              float64\n",
       "                             ...   \n",
       "month_year_TrialDataDate     object\n",
       "monthYr_TrialDataDate         int64\n",
       "dayWk_TrialDataDate           int64\n",
       "weekYr_TrialDataDate          int64\n",
       "dayYr_TrialDataDate           int64\n",
       "Length: 70, dtype: object"
      ]
     },
     "execution_count": 11,
     "metadata": {},
     "output_type": "execute_result"
    }
   ],
   "source": [
    "input_ds.dtypes"
   ]
  },
  {
   "cell_type": "code",
   "execution_count": 40,
   "id": "ea00e8e6",
   "metadata": {},
   "outputs": [
    {
     "data": {
      "text/plain": [
       "(555991, 70)"
      ]
     },
     "execution_count": 40,
     "metadata": {},
     "output_type": "execute_result"
    }
   ],
   "source": [
    "input_ds.shape"
   ]
  },
  {
   "cell_type": "code",
   "execution_count": 41,
   "id": "d8ea7005",
   "metadata": {},
   "outputs": [
    {
     "data": {
      "text/plain": [
       "Male      422275\n",
       "Female    122121\n",
       "NULL         252\n",
       "Name: Gender, dtype: int64"
      ]
     },
     "execution_count": 41,
     "metadata": {},
     "output_type": "execute_result"
    }
   ],
   "source": [
    "input_ds['Gender'].value_counts()"
   ]
  },
  {
   "cell_type": "code",
   "execution_count": 31,
   "id": "62429776",
   "metadata": {},
   "outputs": [],
   "source": [
    "input_ds = input_ds.reset_index()"
   ]
  },
  {
   "cell_type": "code",
   "execution_count": 28,
   "id": "6eec24e0",
   "metadata": {},
   "outputs": [
    {
     "name": "stdout",
     "output_type": "stream",
     "text": [
      "Collecting seaborn\n",
      "  Downloading seaborn-0.11.1-py3-none-any.whl (285 kB)\n",
      "\u001b[K     |████████████████████████████████| 285 kB 17.3 MB/s eta 0:00:01\n",
      "\u001b[?25hRequirement already satisfied: pandas>=0.23 in /anaconda/envs/azureml_py36/lib/python3.6/site-packages (from seaborn) (0.25.3)\n",
      "Requirement already satisfied: matplotlib>=2.2 in /anaconda/envs/azureml_py36/lib/python3.6/site-packages (from seaborn) (3.2.1)\n",
      "Requirement already satisfied: numpy>=1.15 in /anaconda/envs/azureml_py36/lib/python3.6/site-packages (from seaborn) (1.18.5)\n",
      "Requirement already satisfied: scipy>=1.0 in /anaconda/envs/azureml_py36/lib/python3.6/site-packages (from seaborn) (1.4.1)\n",
      "Requirement already satisfied: pytz>=2017.2 in /anaconda/envs/azureml_py36/lib/python3.6/site-packages (from pandas>=0.23->seaborn) (2021.1)\n",
      "Requirement already satisfied: python-dateutil>=2.6.1 in /anaconda/envs/azureml_py36/lib/python3.6/site-packages (from pandas>=0.23->seaborn) (2.8.1)\n",
      "Requirement already satisfied: kiwisolver>=1.0.1 in /anaconda/envs/azureml_py36/lib/python3.6/site-packages (from matplotlib>=2.2->seaborn) (1.3.1)\n",
      "Requirement already satisfied: pyparsing!=2.0.4,!=2.1.2,!=2.1.6,>=2.0.1 in /anaconda/envs/azureml_py36/lib/python3.6/site-packages (from matplotlib>=2.2->seaborn) (2.4.7)\n",
      "Requirement already satisfied: cycler>=0.10 in /anaconda/envs/azureml_py36/lib/python3.6/site-packages (from matplotlib>=2.2->seaborn) (0.10.0)\n",
      "Requirement already satisfied: six>=1.5 in /anaconda/envs/azureml_py36/lib/python3.6/site-packages (from python-dateutil>=2.6.1->pandas>=0.23->seaborn) (1.15.0)\n",
      "Installing collected packages: seaborn\n",
      "Successfully installed seaborn-0.11.1\n",
      "Note: you may need to restart the kernel to use updated packages.\n"
     ]
    }
   ],
   "source": [
    "pip install seaborn"
   ]
  },
  {
   "cell_type": "code",
   "execution_count": 12,
   "id": "71bd6971",
   "metadata": {},
   "outputs": [
    {
     "name": "stderr",
     "output_type": "stream",
     "text": [
      "/anaconda/envs/azureml_py36/lib/python3.6/site-packages/seaborn/_decorators.py:43: FutureWarning: Pass the following variable as a keyword arg: x. From version 0.12, the only valid positional argument will be `data`, and passing other arguments without an explicit keyword will result in an error or misinterpretation.\n",
      "  FutureWarning\n"
     ]
    },
    {
     "data": {
      "text/plain": [
       "<matplotlib.axes._subplots.AxesSubplot at 0x7fd62c27de80>"
      ]
     },
     "execution_count": 12,
     "metadata": {},
     "output_type": "execute_result"
    },
    {
     "data": {
      "image/png": "[encoded data removed]",
      "text/plain": [
       "<Figure size 864x504 with 1 Axes>"
      ]
     },
     "metadata": {
      "needs_background": "light"
     },
     "output_type": "display_data"
    }
   ],
   "source": [
    "import seaborn as sns\n",
    "#Plotting the Purpose count\n",
    "plt.figure(figsize=(12,7))\n",
    "sns.countplot(input_ds['Gender'])"
   ]
  },
  {
   "cell_type": "code",
   "execution_count": 41,
   "id": "25637c84",
   "metadata": {},
   "outputs": [
    {
     "name": "stderr",
     "output_type": "stream",
     "text": [
      "/anaconda/envs/azureml_py36/lib/python3.6/site-packages/seaborn/_decorators.py:43: FutureWarning: Pass the following variable as a keyword arg: x. From version 0.12, the only valid positional argument will be `data`, and passing other arguments without an explicit keyword will result in an error or misinterpretation.\n",
      "  FutureWarning\n"
     ]
    },
    {
     "data": {
      "text/plain": [
       "<matplotlib.axes._subplots.AxesSubplot at 0x7fb357c9e7b8>"
      ]
     },
     "execution_count": 41,
     "metadata": {},
     "output_type": "execute_result"
    },
    {
     "data": {
      "image/png": "[encoded data removed]",
      "text/plain": [
       "<Figure size 864x504 with 1 Axes>"
      ]
     },
     "metadata": {
      "needs_background": "light"
     },
     "output_type": "display_data"
    }
   ],
   "source": [
    "plt.figure(figsize=(12,7))\n",
    "sns.countplot(input_ds['GoalDomain'])"
   ]
  },
  {
   "cell_type": "code",
   "execution_count": 21,
   "id": "da834940",
   "metadata": {},
   "outputs": [
    {
     "name": "stderr",
     "output_type": "stream",
     "text": [
      "/anaconda/envs/azureml_py36/lib/python3.6/site-packages/seaborn/_decorators.py:43: FutureWarning: Pass the following variable as a keyword arg: x. From version 0.12, the only valid positional argument will be `data`, and passing other arguments without an explicit keyword will result in an error or misinterpretation.\n",
      "  FutureWarning\n"
     ]
    },
    {
     "data": {
      "text/plain": [
       "<matplotlib.axes._subplots.AxesSubplot at 0x7fd60de3e390>"
      ]
     },
     "execution_count": 21,
     "metadata": {},
     "output_type": "execute_result"
    },
    {
     "data": {
      "image/png": "[encoded data removed]",
      "text/plain": [
       "<Figure size 864x504 with 1 Axes>"
      ]
     },
     "metadata": {
      "needs_background": "light"
     },
     "output_type": "display_data"
    }
   ],
   "source": [
    "plt.figure(figsize=(12,7))\n",
    "sns.countplot(input_ds['goalForced_80Percent'])"
   ]
  },
  {
   "cell_type": "code",
   "execution_count": 25,
   "id": "44aac250",
   "metadata": {},
   "outputs": [],
   "source": [
    "labels_goals = ['0','1']"
   ]
  },
  {
   "cell_type": "code",
   "execution_count": 41,
   "id": "9583b0f7",
   "metadata": {},
   "outputs": [
    {
     "data": {
      "text/plain": [
       "78.56279870686475"
      ]
     },
     "execution_count": 41,
     "metadata": {},
     "output_type": "execute_result"
    }
   ],
   "source": [
    "(input_ds['goalForced_80Percent'].value_counts()[1]/input_ds['binaryGoalMet'].value_counts()[1]) *100"
   ]
  },
  {
   "cell_type": "markdown",
   "id": "af0c59b7",
   "metadata": {},
   "source": [
    "78% of the forced goals actually met it."
   ]
  },
  {
   "cell_type": "code",
   "execution_count": 43,
   "id": "f40187a5",
   "metadata": {},
   "outputs": [],
   "source": [
    "labels_domain = ['Communication','Adaptive','Language']"
   ]
  },
  {
   "cell_type": "code",
   "execution_count": 45,
   "id": "f1a52b3e",
   "metadata": {},
   "outputs": [
    {
     "data": {
      "text/plain": [
       "<matplotlib.axes._subplots.AxesSubplot at 0x7fea15183f60>"
      ]
     },
     "execution_count": 45,
     "metadata": {},
     "output_type": "execute_result"
    },
    {
     "data": {
      "image/png": "[encoded data removed]",
      "text/plain": [
       "<Figure size 432x288 with 1 Axes>"
      ]
     },
     "metadata": {},
     "output_type": "display_data"
    }
   ],
   "source": [
    "input_ds['GoalDomain'].value_counts().plot.pie(labels = labels_domain, autopct = '%1.1f%%', shadow=True, startangle=90)"
   ]
  },
  {
   "cell_type": "code",
   "execution_count": 46,
   "id": "7c5139c2",
   "metadata": {},
   "outputs": [
    {
     "name": "stderr",
     "output_type": "stream",
     "text": [
      "/anaconda/envs/azureml_py36/lib/python3.6/site-packages/seaborn/_decorators.py:43: FutureWarning: Pass the following variable as a keyword arg: x. From version 0.12, the only valid positional argument will be `data`, and passing other arguments without an explicit keyword will result in an error or misinterpretation.\n",
      "  FutureWarning\n"
     ]
    },
    {
     "data": {
      "text/plain": [
       "<matplotlib.axes._subplots.AxesSubplot at 0x7fe9ba990400>"
      ]
     },
     "execution_count": 46,
     "metadata": {},
     "output_type": "execute_result"
    },
    {
     "data": {
      "image/png": "[encoded data removed]",
      "text/plain": [
       "<Figure size 864x504 with 1 Axes>"
      ]
     },
     "metadata": {
      "needs_background": "light"
     },
     "output_type": "display_data"
    }
   ],
   "source": [
    "plt.figure(figsize=(12,7))\n",
    "sns.countplot(input_ds['CurrentGoalStatus'])"
   ]
  },
  {
   "cell_type": "code",
   "execution_count": 47,
   "id": "9ad243d1",
   "metadata": {},
   "outputs": [],
   "source": [
    "labels = ['Met','On Hold','In Progress','Discontinued']"
   ]
  },
  {
   "cell_type": "code",
   "execution_count": 48,
   "id": "bf516f6f",
   "metadata": {},
   "outputs": [
    {
     "data": {
      "text/plain": [
       "<matplotlib.axes._subplots.AxesSubplot at 0x7fe9d6d5ff28>"
      ]
     },
     "execution_count": 48,
     "metadata": {},
     "output_type": "execute_result"
    },
    {
     "data": {
      "image/png": "[encoded data removed]",
      "text/plain": [
       "<Figure size 432x288 with 1 Axes>"
      ]
     },
     "metadata": {},
     "output_type": "display_data"
    }
   ],
   "source": [
    "input_ds['CurrentGoalStatus'].value_counts().head(10).plot.pie(labels = labels, autopct = '%1.1f%%', shadow=True, startangle=90)"
   ]
  },
  {
   "cell_type": "code",
   "execution_count": 49,
   "id": "25de43a7",
   "metadata": {},
   "outputs": [
    {
     "data": {
      "text/plain": [
       "Met             393428\n",
       "In Progress     105367\n",
       "Discontinued     40286\n",
       "On Hold          16910\n",
       "Name: CurrentGoalStatus, dtype: int64"
      ]
     },
     "execution_count": 49,
     "metadata": {},
     "output_type": "execute_result"
    }
   ],
   "source": [
    "input_ds['CurrentGoalStatus'].value_counts()"
   ]
  },
  {
   "cell_type": "code",
   "execution_count": 52,
   "id": "0d208eba",
   "metadata": {},
   "outputs": [
    {
     "data": {
      "text/plain": [
       "<matplotlib.axes._subplots.AxesSubplot at 0x7fe9d6cefd68>"
      ]
     },
     "execution_count": 52,
     "metadata": {},
     "output_type": "execute_result"
    },
    {
     "data": {
      "image/png": "[encoded data removed]",
      "text/plain": [
       "<Figure size 432x288 with 1 Axes>"
      ]
     },
     "metadata": {
      "needs_background": "light"
     },
     "output_type": "display_data"
    }
   ],
   "source": [
    "sns.countplot(x='GoalDomain',hue=\"binaryGoalMet\",data=input_ds)"
   ]
  },
  {
   "cell_type": "markdown",
   "id": "17f5a3bb",
   "metadata": {},
   "source": [
    "We cannot differentiate based on Goal Met and Domain. All have similar outputs"
   ]
  },
  {
   "cell_type": "code",
   "execution_count": 71,
   "id": "f4e3e978",
   "metadata": {},
   "outputs": [
    {
     "data": {
      "text/plain": [
       "<matplotlib.axes._subplots.AxesSubplot at 0x7fb34e344828>"
      ]
     },
     "execution_count": 71,
     "metadata": {},
     "output_type": "execute_result"
    },
    {
     "data": {
      "image/png": "[encoded data removed]",
      "text/plain": [
       "<Figure size 432x288 with 1 Axes>"
      ]
     },
     "metadata": {
      "needs_background": "light"
     },
     "output_type": "display_data"
    }
   ],
   "source": [
    "sns.countplot(x='Gender',hue=\"binaryGoalMet\",data=input_ds)"
   ]
  },
  {
   "cell_type": "code",
   "execution_count": 53,
   "id": "6fb2475a",
   "metadata": {},
   "outputs": [
    {
     "data": {
      "text/plain": [
       "Male      422275\n",
       "Female    122121\n",
       "NULL         252\n",
       "Name: Gender, dtype: int64"
      ]
     },
     "execution_count": 53,
     "metadata": {},
     "output_type": "execute_result"
    }
   ],
   "source": [
    "input_ds['Gender'].value_counts()"
   ]
  },
  {
   "cell_type": "code",
   "execution_count": 54,
   "id": "200de71e",
   "metadata": {},
   "outputs": [
    {
     "data": {
      "text/plain": [
       "Male      293410\n",
       "Female     92367\n",
       "NULL         237\n",
       "Name: Gender, dtype: int64"
      ]
     },
     "execution_count": 54,
     "metadata": {},
     "output_type": "execute_result"
    }
   ],
   "source": [
    "input_ds['Gender'].where(input_ds['binaryGoalMet'] == 1).value_counts()"
   ]
  },
  {
   "cell_type": "code",
   "execution_count": 53,
   "id": "8cabffeb",
   "metadata": {},
   "outputs": [
    {
     "data": {
      "text/plain": [
       "69.48315671067432"
      ]
     },
     "execution_count": 53,
     "metadata": {},
     "output_type": "execute_result"
    }
   ],
   "source": [
    "293410/422275 * 100"
   ]
  },
  {
   "cell_type": "code",
   "execution_count": 54,
   "id": "528420ae",
   "metadata": {},
   "outputs": [
    {
     "data": {
      "text/plain": [
       "75.63564006190582"
      ]
     },
     "execution_count": 54,
     "metadata": {},
     "output_type": "execute_result"
    }
   ],
   "source": [
    "92367/122121 * 100"
   ]
  },
  {
   "cell_type": "markdown",
   "id": "cb6174e1",
   "metadata": {},
   "source": [
    "From the above data we can conclude that Female Gender has a better Success factor"
   ]
  },
  {
   "cell_type": "code",
   "execution_count": 14,
   "id": "80fff7fc",
   "metadata": {},
   "outputs": [],
   "source": [
    "#Change all values for Binary Goal Met to 0 from Null as it is our target column\n",
    "input_ds['binaryGoalMet'] = input_ds['binaryGoalMet'].fillna(0)"
   ]
  },
  {
   "cell_type": "code",
   "execution_count": 55,
   "id": "45d5ad95",
   "metadata": {},
   "outputs": [
    {
     "name": "stderr",
     "output_type": "stream",
     "text": [
      "/anaconda/envs/azureml_py36/lib/python3.6/site-packages/seaborn/_decorators.py:43: FutureWarning: Pass the following variable as a keyword arg: x. From version 0.12, the only valid positional argument will be `data`, and passing other arguments without an explicit keyword will result in an error or misinterpretation.\n",
      "  FutureWarning\n"
     ]
    },
    {
     "data": {
      "text/plain": [
       "<matplotlib.axes._subplots.AxesSubplot at 0x7fe9d6c98cf8>"
      ]
     },
     "execution_count": 55,
     "metadata": {},
     "output_type": "execute_result"
    },
    {
     "data": {
      "image/png": "[encoded data removed]",
      "text/plain": [
       "<Figure size 432x288 with 1 Axes>"
      ]
     },
     "metadata": {
      "needs_background": "light"
     },
     "output_type": "display_data"
    }
   ],
   "source": [
    "sns.countplot(input_ds['binaryGoalMet'])"
   ]
  },
  {
   "cell_type": "code",
   "execution_count": 63,
   "id": "f6d0cfd5",
   "metadata": {},
   "outputs": [
    {
     "name": "stdout",
     "output_type": "stream",
     "text": [
      "Requirement already satisfied: numpy in /anaconda/envs/azureml_py36/lib/python3.6/site-packages (1.18.5)\n",
      "Note: you may need to restart the kernel to use updated packages.\n"
     ]
    }
   ],
   "source": [
    "pip install numpy"
   ]
  },
  {
   "cell_type": "code",
   "execution_count": 22,
   "id": "4e97709e",
   "metadata": {},
   "outputs": [
    {
     "data": {
      "text/plain": [
       "<matplotlib.axes._subplots.AxesSubplot at 0x7fd60a603a58>"
      ]
     },
     "execution_count": 22,
     "metadata": {},
     "output_type": "execute_result"
    },
    {
     "data": {
      "image/png": "[encoded data removed]",
      "text/plain": [
       "<Figure size 432x288 with 1 Axes>"
      ]
     },
     "metadata": {
      "needs_background": "light"
     },
     "output_type": "display_data"
    }
   ],
   "source": [
    "sns.scatterplot(x=\"sessionCount_byGoal_byDayYear\",hue=\"binaryGoalMet\",data=input_ds,y=\"sessionCount_byGoal_byWeekYear\")"
   ]
  },
  {
   "cell_type": "code",
   "execution_count": 57,
   "id": "65a563c2",
   "metadata": {},
   "outputs": [
    {
     "data": {
      "text/plain": [
       "<matplotlib.axes._subplots.AxesSubplot at 0x7fe9d5b65080>"
      ]
     },
     "execution_count": 57,
     "metadata": {},
     "output_type": "execute_result"
    },
    {
     "data": {
      "image/png": "[encoded data removed]",
      "text/plain": [
       "<Figure size 432x288 with 1 Axes>"
      ]
     },
     "metadata": {
      "needs_background": "light"
     },
     "output_type": "display_data"
    }
   ],
   "source": [
    "sns.scatterplot(x=\"sessionCount_byGoal_byMonthYear\",hue=\"binaryGoalMet\",data=input_ds,y=\"sessionCount_byGoal_byWeekYear\")"
   ]
  },
  {
   "cell_type": "markdown",
   "id": "a8a97f50",
   "metadata": {},
   "source": [
    "We can analyse that with more sessions success rate is high. So more sessions should be organised per day/month/year.\n",
    "Highest Concentration of successes is in the initials sessions. So if regular sessions are kept in the initial days, the success rate will be higher.\n",
    "Between <strong>10-180</strong> session count by week is ideal"
   ]
  },
  {
   "cell_type": "code",
   "execution_count": 58,
   "id": "2eb32dce",
   "metadata": {},
   "outputs": [
    {
     "data": {
      "text/plain": [
       "<matplotlib.axes._subplots.AxesSubplot at 0x7fe9d5ad0c88>"
      ]
     },
     "execution_count": 58,
     "metadata": {},
     "output_type": "execute_result"
    },
    {
     "data": {
      "image/png": "[encoded data removed]",
      "text/plain": [
       "<Figure size 432x288 with 1 Axes>"
      ]
     },
     "metadata": {
      "needs_background": "light"
     },
     "output_type": "display_data"
    }
   ],
   "source": [
    "sns.regplot(x=input_ds[\"sessionCount_byGoal_byMonthYear\"],y=input_ds[\"sessionCount_byGoal_byWeekYear\"], fit_reg=True)"
   ]
  },
  {
   "cell_type": "code",
   "execution_count": 59,
   "id": "6687d813",
   "metadata": {},
   "outputs": [
    {
     "data": {
      "text/plain": [
       "<matplotlib.axes._subplots.AxesSubplot at 0x7fe9d5aa8780>"
      ]
     },
     "execution_count": 59,
     "metadata": {},
     "output_type": "execute_result"
    },
    {
     "data": {
      "image/png": "[encoded data removed]",
      "text/plain": [
       "<Figure size 432x288 with 1 Axes>"
      ]
     },
     "metadata": {
      "needs_background": "light"
     },
     "output_type": "display_data"
    }
   ],
   "source": [
    "sns.kdeplot(input_ds['sessionCount_byGoal_byMonthYear'],shade='True')"
   ]
  },
  {
   "cell_type": "markdown",
   "id": "d0e80146",
   "metadata": {},
   "source": [
    "We can see from the charts aboce that in the beginning its densely populated and fades away over time. Still one observation is that success rate is more at the last sessions.\n",
    "\n",
    "Let us validate with a Box Plot."
   ]
  },
  {
   "cell_type": "code",
   "execution_count": 60,
   "id": "fa4232fa",
   "metadata": {},
   "outputs": [
    {
     "data": {
      "text/plain": [
       "<matplotlib.axes._subplots.AxesSubplot at 0x7fe9d5a1bc50>"
      ]
     },
     "execution_count": 60,
     "metadata": {},
     "output_type": "execute_result"
    },
    {
     "data": {
      "image/png": "[encoded data removed]",
      "text/plain": [
       "<Figure size 432x288 with 1 Axes>"
      ]
     },
     "metadata": {
      "needs_background": "light"
     },
     "output_type": "display_data"
    }
   ],
   "source": [
    "sns.boxplot(x=\"binaryGoalMet\", y=\"sessionCount_byGoal_byMonthYear\", data = input_ds)"
   ]
  },
  {
   "cell_type": "code",
   "execution_count": 44,
   "id": "bb98547e",
   "metadata": {},
   "outputs": [],
   "source": [
    "import datetime\n",
    "input_ds['Age'] = datetime.datetime.now().year - input_ds['BirthDateYear']"
   ]
  },
  {
   "cell_type": "code",
   "execution_count": 63,
   "id": "d5b6de12",
   "metadata": {},
   "outputs": [
    {
     "name": "stderr",
     "output_type": "stream",
     "text": [
      "/anaconda/envs/azureml_py36/lib/python3.6/site-packages/seaborn/_decorators.py:43: FutureWarning: Pass the following variable as a keyword arg: x. From version 0.12, the only valid positional argument will be `data`, and passing other arguments without an explicit keyword will result in an error or misinterpretation.\n",
      "  FutureWarning\n"
     ]
    },
    {
     "data": {
      "text/plain": [
       "<matplotlib.axes._subplots.AxesSubplot at 0x7fe9d598def0>"
      ]
     },
     "execution_count": 63,
     "metadata": {},
     "output_type": "execute_result"
    },
    {
     "data": {
      "image/png": "[encoded data removed]",
      "text/plain": [
       "<Figure size 432x288 with 1 Axes>"
      ]
     },
     "metadata": {
      "needs_background": "light"
     },
     "output_type": "display_data"
    }
   ],
   "source": [
    "sns.countplot(input_ds['Age'])"
   ]
  },
  {
   "cell_type": "code",
   "execution_count": 116,
   "id": "898498a0",
   "metadata": {},
   "outputs": [
    {
     "data": {
      "text/plain": [
       "<matplotlib.axes._subplots.AxesSubplot at 0x7fe96c9da438>"
      ]
     },
     "execution_count": 116,
     "metadata": {},
     "output_type": "execute_result"
    },
    {
     "data": {
      "image/png": "[encoded data removed]",
      "text/plain": [
       "<Figure size 432x288 with 1 Axes>"
      ]
     },
     "metadata": {
      "needs_background": "light"
     },
     "output_type": "display_data"
    }
   ],
   "source": [
    "sns.scatterplot(x=input_ds['Age'],y=input_ds['binaryGoalMet'])"
   ]
  },
  {
   "cell_type": "code",
   "execution_count": 93,
   "id": "28c4365a",
   "metadata": {},
   "outputs": [
    {
     "data": {
      "text/plain": [
       "Index(['ClientId', 'Gender', 'BirthDateYear', 'goalForced_80Percent',\n",
       "       'percentCorrect', 'sumValue_byTrial', 'maxValue_byTrial',\n",
       "       'daysSinceLastSession', 'trialCount_perDate',\n",
       "       'trialTargetCount_perClient', 'TrialAuthorID',\n",
       "       'authorChanges_byTrialId', 'authorChanges_byTrial_Outcome',\n",
       "       'top5Word_GoalName', 'top6-15Word_GoalName',\n",
       "       'top5Word_Language_GoalName', 'top5Word_Adaptive_GoalName',\n",
       "       'top5Word_Communication_GoalName', 'TrialPhase', 'encodedTrialPhase',\n",
       "       'TrialGroupId', 'TrialTargetId', 'TrialCreatedDate', 'TrialDataDate',\n",
       "       'OrganizationId', 'SessionGroupId', 'SessionGroupStartDate',\n",
       "       'sessionPeriod', 'SessionGroupEndDate', 'trialStarts_byClient',\n",
       "       'trialStarts_byClient_Outcome', 'trialStarts_byClient_Goal',\n",
       "       'trialStarts_byClient_Outcome_Goal', 'trialStarts_byOrg',\n",
       "       'trialStarts_byAuthor', 'trialStarts_byOrg_Goal',\n",
       "       'trialStarts_byAuthor_Goal', 'trialStarts_byOrg_Outcome_Goal',\n",
       "       'trialStarts_byAuthor_Outcome_Goal', 'trialStarts_byAuth_Outcome_Phase',\n",
       "       'trialStarts_byAuth_Goal_Phase', 'CurrentGoalStatus', 'GoalDomain',\n",
       "       'GoalAssessment', 'goalAssessment_encoded', 'binaryGoalMet',\n",
       "       'sessionCount_byGoal_byMonthYear', 'sessionCount_byGoal_byDayYear',\n",
       "       'sessionCount_byGoal_byWeekYear', 'GoalMetDate', 'GoalInitiatedDate',\n",
       "       'GoalCreatedDate', 'goalDomainDistribution_byClient', 'Adaptive',\n",
       "       'Communication', 'Language', 'period_dataLogged_dataGraphed',\n",
       "       'startGraphed_bySessionId', 'period_graphedBySession',\n",
       "       'endGraphed_bySessionId', 'startGraphed_byTargetId',\n",
       "       'period_graphedByTarget', 'dayBins_graphedByTarget',\n",
       "       'endGraphed_byTargetId', 'year_TrialDataDate',\n",
       "       'month_year_TrialDataDate', 'monthYr_TrialDataDate',\n",
       "       'dayWk_TrialDataDate', 'weekYr_TrialDataDate', 'dayYr_TrialDataDate',\n",
       "       'Age'],\n",
       "      dtype='object')"
      ]
     },
     "execution_count": 93,
     "metadata": {},
     "output_type": "execute_result"
    }
   ],
   "source": [
    "input_ds.columns"
   ]
  },
  {
   "cell_type": "code",
   "execution_count": 45,
   "id": "e178c02e",
   "metadata": {},
   "outputs": [],
   "source": [
    "input_ds_corr = input_ds.loc[:,['Gender','Age','goalForced_80Percent','percentCorrect','authorChanges_byTrialId','authorChanges_byTrial_Outcome','trialStarts_byClient','trialStarts_byClient_Outcome', 'trialStarts_byClient_Goal','trialStarts_byClient_Outcome_Goal', 'trialStarts_byOrg','trialStarts_byAuthor','trialStarts_byOrg_Goal','trialStarts_byAuthor_Goal', 'trialStarts_byOrg_Outcome_Goal','trialStarts_byAuthor_Outcome_Goal', 'trialStarts_byAuth_Outcome_Phase','trialStarts_byAuth_Goal_Phase','sessionCount_byGoal_byMonthYear', 'sessionCount_byGoal_byDayYear','sessionCount_byGoal_byWeekYear','period_dataLogged_dataGraphed','period_graphedBySession',\n",
    "                                'goalDomainDistribution_byClient']]"
   ]
  },
  {
   "cell_type": "code",
   "execution_count": 46,
   "id": "679f27be",
   "metadata": {},
   "outputs": [
    {
     "data": {
      "text/plain": [
       "<matplotlib.axes._subplots.AxesSubplot at 0x7fd60dfd2da0>"
      ]
     },
     "execution_count": 46,
     "metadata": {},
     "output_type": "execute_result"
    },
    {
     "data": {
      "image/png": "[encoded data removed]",
      "text/plain": [
       "<Figure size 432x288 with 2 Axes>"
      ]
     },
     "metadata": {
      "needs_background": "light"
     },
     "output_type": "display_data"
    }
   ],
   "source": [
    "corr = input_ds_corr.corr()\n",
    "sns.heatmap(corr, annot = True)"
   ]
  },
  {
   "cell_type": "code",
   "execution_count": 47,
   "id": "7e97b6f9",
   "metadata": {},
   "outputs": [],
   "source": [
    "import numpy as np\n",
    "# Select upper triangle of correlation matrix\n",
    "upper = corr.where(np.triu(np.ones(corr.shape), k=1).astype(np.bool))\n",
    "\n",
    "# Find features with correlation greater than 0.70\n",
    "to_drop = [column for column in upper.columns if any(upper[column] > 0.90)]"
   ]
  },
  {
   "cell_type": "code",
   "execution_count": 48,
   "id": "a85ba3a3",
   "metadata": {},
   "outputs": [
    {
     "data": {
      "text/plain": [
       "['authorChanges_byTrial_Outcome',\n",
       " 'trialStarts_byClient_Outcome',\n",
       " 'trialStarts_byClient_Outcome_Goal',\n",
       " 'trialStarts_byOrg_Goal',\n",
       " 'trialStarts_byOrg_Outcome_Goal',\n",
       " 'trialStarts_byAuthor_Outcome_Goal',\n",
       " 'trialStarts_byAuth_Goal_Phase',\n",
       " 'sessionCount_byGoal_byWeekYear']"
      ]
     },
     "execution_count": 48,
     "metadata": {},
     "output_type": "execute_result"
    }
   ],
   "source": [
    "to_drop"
   ]
  },
  {
   "cell_type": "code",
   "execution_count": 49,
   "id": "0f573f8f",
   "metadata": {},
   "outputs": [],
   "source": [
    "input_ds_corr.drop(columns=to_drop, axis=0, inplace=True)"
   ]
  },
  {
   "cell_type": "code",
   "execution_count": 68,
   "id": "7a6c1c97",
   "metadata": {},
   "outputs": [
    {
     "data": {
      "text/plain": [
       "Gender                             11343\n",
       "Age                                  391\n",
       "authorChanges_byTrialId                0\n",
       "trialStarts_byClient                   0\n",
       "trialStarts_byOrg                      0\n",
       "trialStarts_byAuthor                   0\n",
       "trialStarts_byAuthor_Goal              0\n",
       "sessionCount_byGoal_byMonthYear        0\n",
       "period_dataLogged_dataGraphed          0\n",
       "period_graphedBySession                0\n",
       "goalDomainDistribution_byClient        0\n",
       "dtype: int64"
      ]
     },
     "execution_count": 68,
     "metadata": {},
     "output_type": "execute_result"
    }
   ],
   "source": [
    "input_ds_corr.isnull().sum()"
   ]
  },
  {
   "cell_type": "code",
   "execution_count": 50,
   "id": "902afd47",
   "metadata": {},
   "outputs": [
    {
     "data": {
      "text/html": [
       "<div>\n",
       "<style scoped>\n",
       "    .dataframe tbody tr th:only-of-type {\n",
       "        vertical-align: middle;\n",
       "    }\n",
       "\n",
       "    .dataframe tbody tr th {\n",
       "        vertical-align: top;\n",
       "    }\n",
       "\n",
       "    .dataframe thead th {\n",
       "        text-align: right;\n",
       "    }\n",
       "</style>\n",
       "<table border=\"1\" class=\"dataframe\">\n",
       "  <thead>\n",
       "    <tr style=\"text-align: right;\">\n",
       "      <th></th>\n",
       "      <th>Gender</th>\n",
       "      <th>Age</th>\n",
       "      <th>goalForced_80Percent</th>\n",
       "      <th>percentCorrect</th>\n",
       "      <th>authorChanges_byTrialId</th>\n",
       "      <th>trialStarts_byClient</th>\n",
       "      <th>trialStarts_byClient_Goal</th>\n",
       "      <th>trialStarts_byOrg</th>\n",
       "      <th>trialStarts_byAuthor</th>\n",
       "      <th>trialStarts_byAuthor_Goal</th>\n",
       "      <th>trialStarts_byAuth_Outcome_Phase</th>\n",
       "      <th>sessionCount_byGoal_byMonthYear</th>\n",
       "      <th>sessionCount_byGoal_byDayYear</th>\n",
       "      <th>period_dataLogged_dataGraphed</th>\n",
       "      <th>period_graphedBySession</th>\n",
       "      <th>goalDomainDistribution_byClient</th>\n",
       "    </tr>\n",
       "  </thead>\n",
       "  <tbody>\n",
       "    <tr>\n",
       "      <th>0</th>\n",
       "      <td>Male</td>\n",
       "      <td>13.0</td>\n",
       "      <td>0.0</td>\n",
       "      <td>0.0</td>\n",
       "      <td>4</td>\n",
       "      <td>797</td>\n",
       "      <td>22</td>\n",
       "      <td>8232</td>\n",
       "      <td>1230</td>\n",
       "      <td>20</td>\n",
       "      <td>431</td>\n",
       "      <td>34</td>\n",
       "      <td>5</td>\n",
       "      <td>:0:05:00:21</td>\n",
       "      <td>:0:00:16:27</td>\n",
       "      <td>2</td>\n",
       "    </tr>\n",
       "    <tr>\n",
       "      <th>1</th>\n",
       "      <td>Male</td>\n",
       "      <td>13.0</td>\n",
       "      <td>0.0</td>\n",
       "      <td>0.0</td>\n",
       "      <td>6</td>\n",
       "      <td>797</td>\n",
       "      <td>33</td>\n",
       "      <td>8232</td>\n",
       "      <td>1230</td>\n",
       "      <td>30</td>\n",
       "      <td>431</td>\n",
       "      <td>34</td>\n",
       "      <td>5</td>\n",
       "      <td>:0:05:00:21</td>\n",
       "      <td>:0:00:16:27</td>\n",
       "      <td>2</td>\n",
       "    </tr>\n",
       "    <tr>\n",
       "      <th>2</th>\n",
       "      <td>Male</td>\n",
       "      <td>13.0</td>\n",
       "      <td>0.0</td>\n",
       "      <td>0.4</td>\n",
       "      <td>5</td>\n",
       "      <td>797</td>\n",
       "      <td>26</td>\n",
       "      <td>8232</td>\n",
       "      <td>1230</td>\n",
       "      <td>23</td>\n",
       "      <td>431</td>\n",
       "      <td>34</td>\n",
       "      <td>5</td>\n",
       "      <td>:0:05:00:06</td>\n",
       "      <td>:0:00:16:27</td>\n",
       "      <td>2</td>\n",
       "    </tr>\n",
       "    <tr>\n",
       "      <th>3</th>\n",
       "      <td>Male</td>\n",
       "      <td>13.0</td>\n",
       "      <td>0.0</td>\n",
       "      <td>0.0</td>\n",
       "      <td>2</td>\n",
       "      <td>797</td>\n",
       "      <td>5</td>\n",
       "      <td>8232</td>\n",
       "      <td>1230</td>\n",
       "      <td>4</td>\n",
       "      <td>431</td>\n",
       "      <td>34</td>\n",
       "      <td>5</td>\n",
       "      <td>:0:04:59:49</td>\n",
       "      <td>:0:00:16:27</td>\n",
       "      <td>2</td>\n",
       "    </tr>\n",
       "    <tr>\n",
       "      <th>4</th>\n",
       "      <td>Male</td>\n",
       "      <td>13.0</td>\n",
       "      <td>0.0</td>\n",
       "      <td>0.2</td>\n",
       "      <td>7</td>\n",
       "      <td>797</td>\n",
       "      <td>47</td>\n",
       "      <td>8232</td>\n",
       "      <td>1230</td>\n",
       "      <td>34</td>\n",
       "      <td>431</td>\n",
       "      <td>34</td>\n",
       "      <td>5</td>\n",
       "      <td>:0:05:00:30</td>\n",
       "      <td>:0:00:16:27</td>\n",
       "      <td>2</td>\n",
       "    </tr>\n",
       "  </tbody>\n",
       "</table>\n",
       "</div>"
      ],
      "text/plain": [
       "  Gender   Age  goalForced_80Percent  percentCorrect  authorChanges_byTrialId  \\\n",
       "0   Male  13.0                   0.0             0.0                        4   \n",
       "1   Male  13.0                   0.0             0.0                        6   \n",
       "2   Male  13.0                   0.0             0.4                        5   \n",
       "3   Male  13.0                   0.0             0.0                        2   \n",
       "4   Male  13.0                   0.0             0.2                        7   \n",
       "\n",
       "   trialStarts_byClient  trialStarts_byClient_Goal  trialStarts_byOrg  \\\n",
       "0                   797                         22               8232   \n",
       "1                   797                         33               8232   \n",
       "2                   797                         26               8232   \n",
       "3                   797                          5               8232   \n",
       "4                   797                         47               8232   \n",
       "\n",
       "   trialStarts_byAuthor  trialStarts_byAuthor_Goal  \\\n",
       "0                  1230                         20   \n",
       "1                  1230                         30   \n",
       "2                  1230                         23   \n",
       "3                  1230                          4   \n",
       "4                  1230                         34   \n",
       "\n",
       "   trialStarts_byAuth_Outcome_Phase  sessionCount_byGoal_byMonthYear  \\\n",
       "0                               431                               34   \n",
       "1                               431                               34   \n",
       "2                               431                               34   \n",
       "3                               431                               34   \n",
       "4                               431                               34   \n",
       "\n",
       "   sessionCount_byGoal_byDayYear period_dataLogged_dataGraphed  \\\n",
       "0                              5                   :0:05:00:21   \n",
       "1                              5                   :0:05:00:21   \n",
       "2                              5                   :0:05:00:06   \n",
       "3                              5                   :0:04:59:49   \n",
       "4                              5                   :0:05:00:30   \n",
       "\n",
       "  period_graphedBySession  goalDomainDistribution_byClient  \n",
       "0             :0:00:16:27                                2  \n",
       "1             :0:00:16:27                                2  \n",
       "2             :0:00:16:27                                2  \n",
       "3             :0:00:16:27                                2  \n",
       "4             :0:00:16:27                                2  "
      ]
     },
     "execution_count": 50,
     "metadata": {},
     "output_type": "execute_result"
    }
   ],
   "source": [
    "input_ds_corr.head()"
   ]
  },
  {
   "cell_type": "code",
   "execution_count": 51,
   "id": "88adc123",
   "metadata": {},
   "outputs": [],
   "source": [
    "input_ds_corr['Gender'].replace(('Male', 'Female'), (1, 0), inplace=True)"
   ]
  },
  {
   "cell_type": "code",
   "execution_count": 111,
   "id": "1a67d358",
   "metadata": {},
   "outputs": [
    {
     "data": {
      "text/html": [
       "<div>\n",
       "<style scoped>\n",
       "    .dataframe tbody tr th:only-of-type {\n",
       "        vertical-align: middle;\n",
       "    }\n",
       "\n",
       "    .dataframe tbody tr th {\n",
       "        vertical-align: top;\n",
       "    }\n",
       "\n",
       "    .dataframe thead th {\n",
       "        text-align: right;\n",
       "    }\n",
       "</style>\n",
       "<table border=\"1\" class=\"dataframe\">\n",
       "  <thead>\n",
       "    <tr style=\"text-align: right;\">\n",
       "      <th></th>\n",
       "      <th>Gender</th>\n",
       "      <th>Age</th>\n",
       "      <th>authorChanges_byTrialId</th>\n",
       "      <th>trialStarts_byClient</th>\n",
       "      <th>trialStarts_byOrg</th>\n",
       "      <th>trialStarts_byAuthor</th>\n",
       "      <th>trialStarts_byAuthor_Goal</th>\n",
       "      <th>sessionCount_byGoal_byMonthYear</th>\n",
       "      <th>period_dataLogged_dataGraphed</th>\n",
       "      <th>period_graphedBySession</th>\n",
       "      <th>goalDomainDistribution_byClient</th>\n",
       "    </tr>\n",
       "  </thead>\n",
       "  <tbody>\n",
       "    <tr>\n",
       "      <th>0</th>\n",
       "      <td>1</td>\n",
       "      <td>13.0</td>\n",
       "      <td>4</td>\n",
       "      <td>797</td>\n",
       "      <td>8232</td>\n",
       "      <td>1230</td>\n",
       "      <td>20</td>\n",
       "      <td>34</td>\n",
       "      <td>:0:05:00:21</td>\n",
       "      <td>:0:00:16:27</td>\n",
       "      <td>2</td>\n",
       "    </tr>\n",
       "    <tr>\n",
       "      <th>1</th>\n",
       "      <td>1</td>\n",
       "      <td>13.0</td>\n",
       "      <td>6</td>\n",
       "      <td>797</td>\n",
       "      <td>8232</td>\n",
       "      <td>1230</td>\n",
       "      <td>30</td>\n",
       "      <td>34</td>\n",
       "      <td>:0:05:00:21</td>\n",
       "      <td>:0:00:16:27</td>\n",
       "      <td>2</td>\n",
       "    </tr>\n",
       "    <tr>\n",
       "      <th>2</th>\n",
       "      <td>1</td>\n",
       "      <td>13.0</td>\n",
       "      <td>5</td>\n",
       "      <td>797</td>\n",
       "      <td>8232</td>\n",
       "      <td>1230</td>\n",
       "      <td>23</td>\n",
       "      <td>34</td>\n",
       "      <td>:0:05:00:06</td>\n",
       "      <td>:0:00:16:27</td>\n",
       "      <td>2</td>\n",
       "    </tr>\n",
       "    <tr>\n",
       "      <th>3</th>\n",
       "      <td>1</td>\n",
       "      <td>13.0</td>\n",
       "      <td>2</td>\n",
       "      <td>797</td>\n",
       "      <td>8232</td>\n",
       "      <td>1230</td>\n",
       "      <td>4</td>\n",
       "      <td>34</td>\n",
       "      <td>:0:04:59:49</td>\n",
       "      <td>:0:00:16:27</td>\n",
       "      <td>2</td>\n",
       "    </tr>\n",
       "    <tr>\n",
       "      <th>4</th>\n",
       "      <td>1</td>\n",
       "      <td>13.0</td>\n",
       "      <td>7</td>\n",
       "      <td>797</td>\n",
       "      <td>8232</td>\n",
       "      <td>1230</td>\n",
       "      <td>34</td>\n",
       "      <td>34</td>\n",
       "      <td>:0:05:00:30</td>\n",
       "      <td>:0:00:16:27</td>\n",
       "      <td>2</td>\n",
       "    </tr>\n",
       "  </tbody>\n",
       "</table>\n",
       "</div>"
      ],
      "text/plain": [
       "  Gender   Age  authorChanges_byTrialId  trialStarts_byClient  \\\n",
       "0      1  13.0                        4                   797   \n",
       "1      1  13.0                        6                   797   \n",
       "2      1  13.0                        5                   797   \n",
       "3      1  13.0                        2                   797   \n",
       "4      1  13.0                        7                   797   \n",
       "\n",
       "   trialStarts_byOrg  trialStarts_byAuthor  trialStarts_byAuthor_Goal  \\\n",
       "0               8232                  1230                         20   \n",
       "1               8232                  1230                         30   \n",
       "2               8232                  1230                         23   \n",
       "3               8232                  1230                          4   \n",
       "4               8232                  1230                         34   \n",
       "\n",
       "   sessionCount_byGoal_byMonthYear period_dataLogged_dataGraphed  \\\n",
       "0                               34                   :0:05:00:21   \n",
       "1                               34                   :0:05:00:21   \n",
       "2                               34                   :0:05:00:06   \n",
       "3                               34                   :0:04:59:49   \n",
       "4                               34                   :0:05:00:30   \n",
       "\n",
       "  period_graphedBySession  goalDomainDistribution_byClient  \n",
       "0             :0:00:16:27                                2  \n",
       "1             :0:00:16:27                                2  \n",
       "2             :0:00:16:27                                2  \n",
       "3             :0:00:16:27                                2  \n",
       "4             :0:00:16:27                                2  "
      ]
     },
     "execution_count": 111,
     "metadata": {},
     "output_type": "execute_result"
    }
   ],
   "source": [
    "input_ds_corr.head()"
   ]
  },
  {
   "cell_type": "code",
   "execution_count": 52,
   "id": "e112246b",
   "metadata": {},
   "outputs": [],
   "source": [
    "input_ds_corr[\"Gender\"].fillna(2, inplace = True)"
   ]
  },
  {
   "cell_type": "code",
   "execution_count": 53,
   "id": "74957d9e",
   "metadata": {},
   "outputs": [
    {
     "data": {
      "text/plain": [
       "Gender                                 0\n",
       "Age                                  391\n",
       "goalForced_80Percent                5246\n",
       "percentCorrect                      5246\n",
       "authorChanges_byTrialId                0\n",
       "trialStarts_byClient                   0\n",
       "trialStarts_byClient_Goal              0\n",
       "trialStarts_byOrg                      0\n",
       "trialStarts_byAuthor                   0\n",
       "trialStarts_byAuthor_Goal              0\n",
       "trialStarts_byAuth_Outcome_Phase       0\n",
       "sessionCount_byGoal_byMonthYear        0\n",
       "sessionCount_byGoal_byDayYear          0\n",
       "period_dataLogged_dataGraphed          0\n",
       "period_graphedBySession                0\n",
       "goalDomainDistribution_byClient        0\n",
       "dtype: int64"
      ]
     },
     "execution_count": 53,
     "metadata": {},
     "output_type": "execute_result"
    }
   ],
   "source": [
    "input_ds_corr.isna().sum()"
   ]
  },
  {
   "cell_type": "code",
   "execution_count": 54,
   "id": "96fdd665",
   "metadata": {},
   "outputs": [],
   "source": [
    "input_ds_corr['Age'].fillna(input_ds_corr['Age'].mean(), inplace=True)\n",
    "input_ds_corr['goalForced_80Percent'].fillna(input_ds_corr['goalForced_80Percent'].median(), inplace=True)\n",
    "input_ds_corr['percentCorrect'].fillna(input_ds_corr['percentCorrect'].median(), inplace=True)"
   ]
  },
  {
   "cell_type": "code",
   "execution_count": 55,
   "id": "b48c576b",
   "metadata": {},
   "outputs": [
    {
     "data": {
      "text/plain": [
       "Gender                              0\n",
       "Age                                 0\n",
       "goalForced_80Percent                0\n",
       "percentCorrect                      0\n",
       "authorChanges_byTrialId             0\n",
       "trialStarts_byClient                0\n",
       "trialStarts_byClient_Goal           0\n",
       "trialStarts_byOrg                   0\n",
       "trialStarts_byAuthor                0\n",
       "trialStarts_byAuthor_Goal           0\n",
       "trialStarts_byAuth_Outcome_Phase    0\n",
       "sessionCount_byGoal_byMonthYear     0\n",
       "sessionCount_byGoal_byDayYear       0\n",
       "period_dataLogged_dataGraphed       0\n",
       "period_graphedBySession             0\n",
       "goalDomainDistribution_byClient     0\n",
       "dtype: int64"
      ]
     },
     "execution_count": 55,
     "metadata": {},
     "output_type": "execute_result"
    }
   ],
   "source": [
    "input_ds_corr.isna().sum()"
   ]
  },
  {
   "cell_type": "markdown",
   "id": "436741c6",
   "metadata": {},
   "source": [
    "Scaling the dataset before analysis"
   ]
  },
  {
   "cell_type": "code",
   "execution_count": 57,
   "id": "d59ac36e",
   "metadata": {},
   "outputs": [],
   "source": [
    "import pandas as pd"
   ]
  },
  {
   "cell_type": "code",
   "execution_count": 58,
   "id": "aad4d2ac",
   "metadata": {},
   "outputs": [],
   "source": [
    "Y = input_ds['binaryGoalMet']"
   ]
  },
  {
   "cell_type": "code",
   "execution_count": 59,
   "id": "e964d6a7",
   "metadata": {},
   "outputs": [
    {
     "data": {
      "text/plain": [
       "Index(['Gender', 'Age', 'goalForced_80Percent', 'percentCorrect',\n",
       "       'authorChanges_byTrialId', 'trialStarts_byClient',\n",
       "       'trialStarts_byClient_Goal', 'trialStarts_byOrg',\n",
       "       'trialStarts_byAuthor', 'trialStarts_byAuthor_Goal',\n",
       "       'trialStarts_byAuth_Outcome_Phase', 'sessionCount_byGoal_byMonthYear',\n",
       "       'sessionCount_byGoal_byDayYear', 'period_dataLogged_dataGraphed',\n",
       "       'period_graphedBySession', 'goalDomainDistribution_byClient'],\n",
       "      dtype='object')"
      ]
     },
     "execution_count": 59,
     "metadata": {},
     "output_type": "execute_result"
    }
   ],
   "source": [
    "input_ds_corr.columns"
   ]
  },
  {
   "cell_type": "code",
   "execution_count": 60,
   "id": "0b0f42eb",
   "metadata": {},
   "outputs": [
    {
     "data": {
      "text/plain": [
       "Gender                               object\n",
       "Age                                 float64\n",
       "goalForced_80Percent                float64\n",
       "percentCorrect                      float64\n",
       "authorChanges_byTrialId               int64\n",
       "trialStarts_byClient                  int64\n",
       "trialStarts_byClient_Goal             int64\n",
       "trialStarts_byOrg                     int64\n",
       "trialStarts_byAuthor                  int64\n",
       "trialStarts_byAuthor_Goal             int64\n",
       "trialStarts_byAuth_Outcome_Phase      int64\n",
       "sessionCount_byGoal_byMonthYear       int64\n",
       "sessionCount_byGoal_byDayYear         int64\n",
       "period_dataLogged_dataGraphed        object\n",
       "period_graphedBySession              object\n",
       "goalDomainDistribution_byClient       int64\n",
       "dtype: object"
      ]
     },
     "execution_count": 60,
     "metadata": {},
     "output_type": "execute_result"
    }
   ],
   "source": [
    "input_ds_corr.dtypes"
   ]
  },
  {
   "cell_type": "code",
   "execution_count": 63,
   "id": "240a85b3",
   "metadata": {},
   "outputs": [
    {
     "data": {
      "text/plain": [
       "0         1\n",
       "1         1\n",
       "2         1\n",
       "3         1\n",
       "4         1\n",
       "         ..\n",
       "555986    1\n",
       "555987    1\n",
       "555988    1\n",
       "555989    1\n",
       "555990    1\n",
       "Name: Gender, Length: 555991, dtype: int64"
      ]
     },
     "execution_count": 63,
     "metadata": {},
     "output_type": "execute_result"
    }
   ],
   "source": [
    "input_ds_corr['Gender'].astype(str).astype(int)"
   ]
  },
  {
   "cell_type": "code",
   "execution_count": 62,
   "id": "c9f8c06a",
   "metadata": {},
   "outputs": [],
   "source": [
    "input_ds_corr['Gender'].replace('NULL', 2, inplace=True)"
   ]
  },
  {
   "cell_type": "code",
   "execution_count": 64,
   "id": "3f5b1d96",
   "metadata": {},
   "outputs": [
    {
     "data": {
      "text/plain": [
       "<matplotlib.axes._subplots.AxesSubplot at 0x7fd5d481ea20>"
      ]
     },
     "execution_count": 64,
     "metadata": {},
     "output_type": "execute_result"
    },
    {
     "data": {
      "image/png": "[encoded data removed]",
      "text/plain": [
       "<Figure size 432x288 with 2 Axes>"
      ]
     },
     "metadata": {
      "needs_background": "light"
     },
     "output_type": "display_data"
    }
   ],
   "source": [
    "corr = input_ds_corr.corr()\n",
    "sns.heatmap(corr, annot = True)"
   ]
  },
  {
   "cell_type": "code",
   "execution_count": null,
   "id": "71815698",
   "metadata": {},
   "outputs": [],
   "source": [
    "Cleaner Correlation Plot for the dependent variables"
   ]
  },
  {
   "cell_type": "code",
   "execution_count": 65,
   "id": "a5fe4d90",
   "metadata": {},
   "outputs": [
    {
     "name": "stdout",
     "output_type": "stream",
     "text": [
      "Index(['period_dataLogged_dataGraphed', 'period_graphedBySession'], dtype='object')\n"
     ]
    }
   ],
   "source": [
    "objList = input_ds_corr.select_dtypes(include = \"object\").columns\n",
    "print (objList)"
   ]
  },
  {
   "cell_type": "code",
   "execution_count": 66,
   "id": "38822f66",
   "metadata": {},
   "outputs": [
    {
     "name": "stdout",
     "output_type": "stream",
     "text": [
      "<class 'pandas.core.frame.DataFrame'>\n",
      "RangeIndex: 555991 entries, 0 to 555990\n",
      "Data columns (total 16 columns):\n",
      " #   Column                            Non-Null Count   Dtype  \n",
      "---  ------                            --------------   -----  \n",
      " 0   Gender                            555991 non-null  int64  \n",
      " 1   Age                               555991 non-null  float64\n",
      " 2   goalForced_80Percent              555991 non-null  float64\n",
      " 3   percentCorrect                    555991 non-null  float64\n",
      " 4   authorChanges_byTrialId           555991 non-null  int64  \n",
      " 5   trialStarts_byClient              555991 non-null  int64  \n",
      " 6   trialStarts_byClient_Goal         555991 non-null  int64  \n",
      " 7   trialStarts_byOrg                 555991 non-null  int64  \n",
      " 8   trialStarts_byAuthor              555991 non-null  int64  \n",
      " 9   trialStarts_byAuthor_Goal         555991 non-null  int64  \n",
      " 10  trialStarts_byAuth_Outcome_Phase  555991 non-null  int64  \n",
      " 11  sessionCount_byGoal_byMonthYear   555991 non-null  int64  \n",
      " 12  sessionCount_byGoal_byDayYear     555991 non-null  int64  \n",
      " 13  period_dataLogged_dataGraphed     555991 non-null  int64  \n",
      " 14  period_graphedBySession           555991 non-null  int64  \n",
      " 15  goalDomainDistribution_byClient   555991 non-null  int64  \n",
      "dtypes: float64(3), int64(13)\n",
      "memory usage: 67.9 MB\n",
      "None\n"
     ]
    }
   ],
   "source": [
    "#Label Encoding for object to numeric conversion\n",
    "from sklearn.preprocessing import LabelEncoder\n",
    "le = LabelEncoder()\n",
    "\n",
    "for feat in objList:\n",
    "    input_ds_corr[feat] = le.fit_transform(input_ds_corr[feat].astype(str))\n",
    "\n",
    "print (input_ds_corr.info())"
   ]
  },
  {
   "cell_type": "code",
   "execution_count": 67,
   "id": "d769c614",
   "metadata": {},
   "outputs": [
    {
     "data": {
      "text/html": [
       "<div>\n",
       "<style scoped>\n",
       "    .dataframe tbody tr th:only-of-type {\n",
       "        vertical-align: middle;\n",
       "    }\n",
       "\n",
       "    .dataframe tbody tr th {\n",
       "        vertical-align: top;\n",
       "    }\n",
       "\n",
       "    .dataframe thead th {\n",
       "        text-align: right;\n",
       "    }\n",
       "</style>\n",
       "<table border=\"1\" class=\"dataframe\">\n",
       "  <thead>\n",
       "    <tr style=\"text-align: right;\">\n",
       "      <th></th>\n",
       "      <th>Gender</th>\n",
       "      <th>Age</th>\n",
       "      <th>goalForced_80Percent</th>\n",
       "      <th>percentCorrect</th>\n",
       "      <th>authorChanges_byTrialId</th>\n",
       "      <th>trialStarts_byClient</th>\n",
       "      <th>trialStarts_byClient_Goal</th>\n",
       "      <th>trialStarts_byOrg</th>\n",
       "      <th>trialStarts_byAuthor</th>\n",
       "      <th>trialStarts_byAuthor_Goal</th>\n",
       "      <th>trialStarts_byAuth_Outcome_Phase</th>\n",
       "      <th>sessionCount_byGoal_byMonthYear</th>\n",
       "      <th>sessionCount_byGoal_byDayYear</th>\n",
       "      <th>period_dataLogged_dataGraphed</th>\n",
       "      <th>period_graphedBySession</th>\n",
       "      <th>goalDomainDistribution_byClient</th>\n",
       "    </tr>\n",
       "  </thead>\n",
       "  <tbody>\n",
       "    <tr>\n",
       "      <th>0</th>\n",
       "      <td>1</td>\n",
       "      <td>13.0</td>\n",
       "      <td>0.0</td>\n",
       "      <td>0.0</td>\n",
       "      <td>4</td>\n",
       "      <td>797</td>\n",
       "      <td>22</td>\n",
       "      <td>8232</td>\n",
       "      <td>1230</td>\n",
       "      <td>20</td>\n",
       "      <td>431</td>\n",
       "      <td>34</td>\n",
       "      <td>5</td>\n",
       "      <td>1458</td>\n",
       "      <td>984</td>\n",
       "      <td>2</td>\n",
       "    </tr>\n",
       "    <tr>\n",
       "      <th>1</th>\n",
       "      <td>1</td>\n",
       "      <td>13.0</td>\n",
       "      <td>0.0</td>\n",
       "      <td>0.0</td>\n",
       "      <td>6</td>\n",
       "      <td>797</td>\n",
       "      <td>33</td>\n",
       "      <td>8232</td>\n",
       "      <td>1230</td>\n",
       "      <td>30</td>\n",
       "      <td>431</td>\n",
       "      <td>34</td>\n",
       "      <td>5</td>\n",
       "      <td>1458</td>\n",
       "      <td>984</td>\n",
       "      <td>2</td>\n",
       "    </tr>\n",
       "    <tr>\n",
       "      <th>2</th>\n",
       "      <td>1</td>\n",
       "      <td>13.0</td>\n",
       "      <td>0.0</td>\n",
       "      <td>0.4</td>\n",
       "      <td>5</td>\n",
       "      <td>797</td>\n",
       "      <td>26</td>\n",
       "      <td>8232</td>\n",
       "      <td>1230</td>\n",
       "      <td>23</td>\n",
       "      <td>431</td>\n",
       "      <td>34</td>\n",
       "      <td>5</td>\n",
       "      <td>1443</td>\n",
       "      <td>984</td>\n",
       "      <td>2</td>\n",
       "    </tr>\n",
       "    <tr>\n",
       "      <th>3</th>\n",
       "      <td>1</td>\n",
       "      <td>13.0</td>\n",
       "      <td>0.0</td>\n",
       "      <td>0.0</td>\n",
       "      <td>2</td>\n",
       "      <td>797</td>\n",
       "      <td>5</td>\n",
       "      <td>8232</td>\n",
       "      <td>1230</td>\n",
       "      <td>4</td>\n",
       "      <td>431</td>\n",
       "      <td>34</td>\n",
       "      <td>5</td>\n",
       "      <td>1426</td>\n",
       "      <td>984</td>\n",
       "      <td>2</td>\n",
       "    </tr>\n",
       "    <tr>\n",
       "      <th>4</th>\n",
       "      <td>1</td>\n",
       "      <td>13.0</td>\n",
       "      <td>0.0</td>\n",
       "      <td>0.2</td>\n",
       "      <td>7</td>\n",
       "      <td>797</td>\n",
       "      <td>47</td>\n",
       "      <td>8232</td>\n",
       "      <td>1230</td>\n",
       "      <td>34</td>\n",
       "      <td>431</td>\n",
       "      <td>34</td>\n",
       "      <td>5</td>\n",
       "      <td>1467</td>\n",
       "      <td>984</td>\n",
       "      <td>2</td>\n",
       "    </tr>\n",
       "  </tbody>\n",
       "</table>\n",
       "</div>"
      ],
      "text/plain": [
       "   Gender   Age  goalForced_80Percent  percentCorrect  \\\n",
       "0       1  13.0                   0.0             0.0   \n",
       "1       1  13.0                   0.0             0.0   \n",
       "2       1  13.0                   0.0             0.4   \n",
       "3       1  13.0                   0.0             0.0   \n",
       "4       1  13.0                   0.0             0.2   \n",
       "\n",
       "   authorChanges_byTrialId  trialStarts_byClient  trialStarts_byClient_Goal  \\\n",
       "0                        4                   797                         22   \n",
       "1                        6                   797                         33   \n",
       "2                        5                   797                         26   \n",
       "3                        2                   797                          5   \n",
       "4                        7                   797                         47   \n",
       "\n",
       "   trialStarts_byOrg  trialStarts_byAuthor  trialStarts_byAuthor_Goal  \\\n",
       "0               8232                  1230                         20   \n",
       "1               8232                  1230                         30   \n",
       "2               8232                  1230                         23   \n",
       "3               8232                  1230                          4   \n",
       "4               8232                  1230                         34   \n",
       "\n",
       "   trialStarts_byAuth_Outcome_Phase  sessionCount_byGoal_byMonthYear  \\\n",
       "0                               431                               34   \n",
       "1                               431                               34   \n",
       "2                               431                               34   \n",
       "3                               431                               34   \n",
       "4                               431                               34   \n",
       "\n",
       "   sessionCount_byGoal_byDayYear  period_dataLogged_dataGraphed  \\\n",
       "0                              5                           1458   \n",
       "1                              5                           1458   \n",
       "2                              5                           1443   \n",
       "3                              5                           1426   \n",
       "4                              5                           1467   \n",
       "\n",
       "   period_graphedBySession  goalDomainDistribution_byClient  \n",
       "0                      984                                2  \n",
       "1                      984                                2  \n",
       "2                      984                                2  \n",
       "3                      984                                2  \n",
       "4                      984                                2  "
      ]
     },
     "execution_count": 67,
     "metadata": {},
     "output_type": "execute_result"
    }
   ],
   "source": [
    "input_ds_corr.head()"
   ]
  },
  {
   "cell_type": "code",
   "execution_count": 86,
   "id": "ccd6bdd0",
   "metadata": {},
   "outputs": [
    {
     "data": {
      "text/plain": [
       "array([1458, 1443, 1426, ...,  855,  898,  846])"
      ]
     },
     "execution_count": 86,
     "metadata": {},
     "output_type": "execute_result"
    }
   ],
   "source": [
    "input_ds_corr.period_dataLogged_dataGraphed.unique()"
   ]
  },
  {
   "cell_type": "code",
   "execution_count": 68,
   "id": "e6b0f320",
   "metadata": {},
   "outputs": [],
   "source": [
    "from sklearn.preprocessing import StandardScaler\n",
    "scaler = StandardScaler()\n",
    "X = scaler.fit_transform(input_ds_corr)\n",
    "data_x = pd.DataFrame(X, columns = input_ds_corr.columns)"
   ]
  },
  {
   "cell_type": "code",
   "execution_count": 187,
   "id": "b83a8eb6",
   "metadata": {},
   "outputs": [
    {
     "data": {
      "text/plain": [
       "Gender                               int64\n",
       "Age                                float64\n",
       "authorChanges_byTrialId              int64\n",
       "trialStarts_byClient                 int64\n",
       "trialStarts_byOrg                    int64\n",
       "trialStarts_byAuthor                 int64\n",
       "trialStarts_byAuthor_Goal            int64\n",
       "sessionCount_byGoal_byMonthYear      int64\n",
       "period_dataLogged_dataGraphed        int64\n",
       "period_graphedBySession              int64\n",
       "goalDomainDistribution_byClient      int64\n",
       "dtype: object"
      ]
     },
     "execution_count": 187,
     "metadata": {},
     "output_type": "execute_result"
    }
   ],
   "source": [
    "input_ds_corr.dtypes"
   ]
  },
  {
   "cell_type": "code",
   "execution_count": 69,
   "id": "1c434fa3",
   "metadata": {},
   "outputs": [],
   "source": [
    "#Splitting the data into training and test\n",
    "from sklearn.model_selection import train_test_split\n",
    "X_train, X_test, y_train, y_test = train_test_split(data_x, Y, test_size = 1/3, random_state = 45)"
   ]
  },
  {
   "cell_type": "code",
   "execution_count": 114,
   "id": "a7b572c0",
   "metadata": {},
   "outputs": [],
   "source": [
    "from sklearn.neighbors import KNeighborsClassifier\n",
    "\n",
    "\n",
    "test_scores = []\n",
    "train_scores = []\n",
    "\n",
    "for i in range(1,15):\n",
    "\n",
    "    knn = KNeighborsClassifier(i)\n",
    "    knn.fit(X_train,y_train)\n",
    "    \n",
    "    train_scores.append(knn.score(X_train,y_train))\n",
    "    test_scores.append(knn.score(X_test,y_test))"
   ]
  },
  {
   "cell_type": "code",
   "execution_count": 117,
   "id": "5de3779b",
   "metadata": {},
   "outputs": [
    {
     "name": "stdout",
     "output_type": "stream",
     "text": [
      "Max train score 99.98516160362595 % and k = [1]\n"
     ]
    }
   ],
   "source": [
    "## score that comes from testing on the same datapoints that were used for training\n",
    "max_train_score = max(train_scores)\n",
    "train_scores_ind = [i for i, v in enumerate(train_scores) if v == max_train_score]\n",
    "print('Max train score {} % and k = {}'.format(max_train_score*100,list(map(lambda x: x+1, train_scores_ind))))"
   ]
  },
  {
   "cell_type": "code",
   "execution_count": 118,
   "id": "c9651f32",
   "metadata": {},
   "outputs": [
    {
     "name": "stdout",
     "output_type": "stream",
     "text": [
      "Max test score 97.45698237208022 % and k = [1]\n"
     ]
    }
   ],
   "source": [
    "## score that comes from testing on the datapoints that were split in the beginning to be used for testing solely\n",
    "max_test_score = max(test_scores)\n",
    "test_scores_ind = [i for i, v in enumerate(test_scores) if v == max_test_score]\n",
    "print('Max test score {} % and k = {}'.format(max_test_score*100,list(map(lambda x: x+1, test_scores_ind))))"
   ]
  },
  {
   "cell_type": "code",
   "execution_count": 119,
   "id": "6f693885",
   "metadata": {},
   "outputs": [
    {
     "name": "stderr",
     "output_type": "stream",
     "text": [
      "/anaconda/envs/azureml_py36/lib/python3.6/site-packages/seaborn/_decorators.py:43: FutureWarning: Pass the following variables as keyword args: x, y. From version 0.12, the only valid positional argument will be `data`, and passing other arguments without an explicit keyword will result in an error or misinterpretation.\n",
      "  FutureWarning\n",
      "/anaconda/envs/azureml_py36/lib/python3.6/site-packages/seaborn/_decorators.py:43: FutureWarning: Pass the following variables as keyword args: x, y. From version 0.12, the only valid positional argument will be `data`, and passing other arguments without an explicit keyword will result in an error or misinterpretation.\n",
      "  FutureWarning\n"
     ]
    },
    {
     "data": {
      "image/png": "[encoded data removed]",
      "text/plain": [
       "<Figure size 864x360 with 1 Axes>"
      ]
     },
     "metadata": {
      "needs_background": "light"
     },
     "output_type": "display_data"
    }
   ],
   "source": [
    "plt.figure(figsize=(12,5))\n",
    "p = sns.lineplot(range(1,15),train_scores,marker='*',label='Train Score')\n",
    "p = sns.lineplot(range(1,15),test_scores,marker='o',label='Test Score')"
   ]
  },
  {
   "cell_type": "code",
   "execution_count": 109,
   "id": "3db3ed80",
   "metadata": {},
   "outputs": [
    {
     "name": "stdout",
     "output_type": "stream",
     "text": [
      "Accuracy of logistic regression classifier on test set: 0.73\n"
     ]
    }
   ],
   "source": [
    "from sklearn.linear_model import LogisticRegression\n",
    "logreg = LogisticRegression()\n",
    "logreg.fit(X_train, y_train)\n",
    "y_pred = logreg.predict(X_test)\n",
    "print('Accuracy of logistic regression classifier on test set: {:.2f}'.format(logreg.score(X_test, y_test)))"
   ]
  },
  {
   "cell_type": "code",
   "execution_count": 110,
   "id": "f359db1b",
   "metadata": {},
   "outputs": [
    {
     "name": "stdout",
     "output_type": "stream",
     "text": [
      "0.5428681239797416\n",
      "0.7201320961967379\n",
      "0.5623353399810318\n"
     ]
    }
   ],
   "source": [
    "\n",
    "from sklearn import metrics\n",
    "print(metrics.f1_score(y_test, y_pred, average='macro'))\n",
    "print(metrics.precision_score(y_test, y_pred, average='macro'))\n",
    "print(metrics.recall_score(y_test, y_pred, average='macro'))"
   ]
  },
  {
   "cell_type": "code",
   "execution_count": 70,
   "id": "e4dca798",
   "metadata": {},
   "outputs": [
    {
     "name": "stdout",
     "output_type": "stream",
     "text": [
      "Accuracy of Random Forest on test set: 0.99\n"
     ]
    }
   ],
   "source": [
    "from sklearn.ensemble import RandomForestClassifier\n",
    "model = RandomForestClassifier(n_estimators=300, bootstrap = True, max_features = 'sqrt')\n",
    "model.fit(X_train, y_train)\n",
    "y_pred = model.predict(X_test)\n",
    "print('Accuracy of Random Forest on test set: {:.2f}'.format(model.score(X_test, y_test)))"
   ]
  },
  {
   "cell_type": "code",
   "execution_count": 72,
   "id": "808db41b",
   "metadata": {},
   "outputs": [
    {
     "ename": "NameError",
     "evalue": "name 'knn' is not defined",
     "output_type": "error",
     "traceback": [
      "\u001b[0;31m---------------------------------------------------------------------------\u001b[0m",
      "\u001b[0;31mNameError\u001b[0m                                 Traceback (most recent call last)",
      "\u001b[0;32m<ipython-input-72-4df00233f265>\u001b[0m in \u001b[0;36m<module>\u001b[0;34m\u001b[0m\n\u001b[1;32m      2\u001b[0m \u001b[0;32mfrom\u001b[0m \u001b[0msklearn\u001b[0m\u001b[0;34m.\u001b[0m\u001b[0mmetrics\u001b[0m \u001b[0;32mimport\u001b[0m \u001b[0mconfusion_matrix\u001b[0m\u001b[0;34m\u001b[0m\u001b[0;34m\u001b[0m\u001b[0m\n\u001b[1;32m      3\u001b[0m \u001b[0;31m#let us get the predictions using the classifier we had fit above\u001b[0m\u001b[0;34m\u001b[0m\u001b[0;34m\u001b[0m\u001b[0;34m\u001b[0m\u001b[0m\n\u001b[0;32m----> 4\u001b[0;31m \u001b[0my_pred\u001b[0m \u001b[0;34m=\u001b[0m \u001b[0mknn\u001b[0m\u001b[0;34m.\u001b[0m\u001b[0mpredict\u001b[0m\u001b[0;34m(\u001b[0m\u001b[0mX_test\u001b[0m\u001b[0;34m)\u001b[0m\u001b[0;34m\u001b[0m\u001b[0;34m\u001b[0m\u001b[0m\n\u001b[0m\u001b[1;32m      5\u001b[0m \u001b[0mconfusion_matrix\u001b[0m\u001b[0;34m(\u001b[0m\u001b[0my_test\u001b[0m\u001b[0;34m,\u001b[0m\u001b[0my_pred\u001b[0m\u001b[0;34m)\u001b[0m\u001b[0;34m\u001b[0m\u001b[0;34m\u001b[0m\u001b[0m\n\u001b[1;32m      6\u001b[0m \u001b[0mpd\u001b[0m\u001b[0;34m.\u001b[0m\u001b[0mcrosstab\u001b[0m\u001b[0;34m(\u001b[0m\u001b[0my_test\u001b[0m\u001b[0;34m,\u001b[0m \u001b[0my_pred\u001b[0m\u001b[0;34m,\u001b[0m \u001b[0mrownames\u001b[0m\u001b[0;34m=\u001b[0m\u001b[0;34m[\u001b[0m\u001b[0;34m'True'\u001b[0m\u001b[0;34m]\u001b[0m\u001b[0;34m,\u001b[0m \u001b[0mcolnames\u001b[0m\u001b[0;34m=\u001b[0m\u001b[0;34m[\u001b[0m\u001b[0;34m'Predicted'\u001b[0m\u001b[0;34m]\u001b[0m\u001b[0;34m,\u001b[0m \u001b[0mmargins\u001b[0m\u001b[0;34m=\u001b[0m\u001b[0;32mTrue\u001b[0m\u001b[0;34m)\u001b[0m\u001b[0;34m\u001b[0m\u001b[0;34m\u001b[0m\u001b[0m\n",
      "\u001b[0;31mNameError\u001b[0m: name 'knn' is not defined"
     ]
    }
   ],
   "source": [
    "#import confusion_matrix\n",
    "from sklearn.metrics import confusion_matrix\n",
    "#let us get the predictions using the classifier we had fit above\n",
    "y_pred = knn.predict(X_test)\n",
    "confusion_matrix(y_test,y_pred)\n",
    "pd.crosstab(y_test, y_pred, rownames=['True'], colnames=['Predicted'], margins=True)"
   ]
  },
  {
   "cell_type": "code",
   "execution_count": 124,
   "id": "7e2f8589",
   "metadata": {},
   "outputs": [
    {
     "name": "stdout",
     "output_type": "stream",
     "text": [
      "0.9918818722131946\n",
      "0.9931865209378359\n",
      "0.9906003851387001\n"
     ]
    }
   ],
   "source": [
    "print(metrics.f1_score(y_test, y_pred, average=\"macro\"))\n",
    "print(metrics.precision_score(y_test, y_pred, average=\"macro\"))\n",
    "print(metrics.recall_score(y_test, y_pred, average=\"macro\"))"
   ]
  },
  {
   "cell_type": "code",
   "execution_count": 71,
   "id": "9da1ed57",
   "metadata": {},
   "outputs": [
    {
     "ename": "NameError",
     "evalue": "name 'knn' is not defined",
     "output_type": "error",
     "traceback": [
      "\u001b[0;31m---------------------------------------------------------------------------\u001b[0m",
      "\u001b[0;31mNameError\u001b[0m                                 Traceback (most recent call last)",
      "\u001b[0;32m<ipython-input-71-ea08a8998d07>\u001b[0m in \u001b[0;36m<module>\u001b[0;34m\u001b[0m\n\u001b[0;32m----> 1\u001b[0;31m \u001b[0my_pred\u001b[0m \u001b[0;34m=\u001b[0m \u001b[0mknn\u001b[0m\u001b[0;34m.\u001b[0m\u001b[0mpredict\u001b[0m\u001b[0;34m(\u001b[0m\u001b[0mX_test\u001b[0m\u001b[0;34m)\u001b[0m\u001b[0;34m\u001b[0m\u001b[0;34m\u001b[0m\u001b[0m\n\u001b[0m\u001b[1;32m      2\u001b[0m \u001b[0;32mfrom\u001b[0m \u001b[0msklearn\u001b[0m \u001b[0;32mimport\u001b[0m \u001b[0mmetrics\u001b[0m\u001b[0;34m\u001b[0m\u001b[0;34m\u001b[0m\u001b[0m\n\u001b[1;32m      3\u001b[0m \u001b[0mcnf_matrix\u001b[0m \u001b[0;34m=\u001b[0m \u001b[0mmetrics\u001b[0m\u001b[0;34m.\u001b[0m\u001b[0mconfusion_matrix\u001b[0m\u001b[0;34m(\u001b[0m\u001b[0my_test\u001b[0m\u001b[0;34m,\u001b[0m \u001b[0my_pred\u001b[0m\u001b[0;34m)\u001b[0m\u001b[0;34m\u001b[0m\u001b[0;34m\u001b[0m\u001b[0m\n\u001b[1;32m      4\u001b[0m \u001b[0mp\u001b[0m \u001b[0;34m=\u001b[0m \u001b[0msns\u001b[0m\u001b[0;34m.\u001b[0m\u001b[0mheatmap\u001b[0m\u001b[0;34m(\u001b[0m\u001b[0mpd\u001b[0m\u001b[0;34m.\u001b[0m\u001b[0mDataFrame\u001b[0m\u001b[0;34m(\u001b[0m\u001b[0mcnf_matrix\u001b[0m\u001b[0;34m)\u001b[0m\u001b[0;34m,\u001b[0m \u001b[0mannot\u001b[0m\u001b[0;34m=\u001b[0m\u001b[0;32mTrue\u001b[0m\u001b[0;34m,\u001b[0m \u001b[0mcmap\u001b[0m\u001b[0;34m=\u001b[0m\u001b[0;34m\"YlGnBu\"\u001b[0m \u001b[0;34m,\u001b[0m\u001b[0mfmt\u001b[0m\u001b[0;34m=\u001b[0m\u001b[0;34m'g'\u001b[0m\u001b[0;34m)\u001b[0m\u001b[0;34m\u001b[0m\u001b[0;34m\u001b[0m\u001b[0m\n\u001b[1;32m      5\u001b[0m \u001b[0mplt\u001b[0m\u001b[0;34m.\u001b[0m\u001b[0mtitle\u001b[0m\u001b[0;34m(\u001b[0m\u001b[0;34m'Confusion matrix'\u001b[0m\u001b[0;34m,\u001b[0m \u001b[0my\u001b[0m\u001b[0;34m=\u001b[0m\u001b[0;36m1.1\u001b[0m\u001b[0;34m)\u001b[0m\u001b[0;34m\u001b[0m\u001b[0;34m\u001b[0m\u001b[0m\n",
      "\u001b[0;31mNameError\u001b[0m: name 'knn' is not defined"
     ]
    }
   ],
   "source": [
    "y_pred = knn.predict(X_test)\n",
    "from sklearn import metrics\n",
    "cnf_matrix = metrics.confusion_matrix(y_test, y_pred)\n",
    "p = sns.heatmap(pd.DataFrame(cnf_matrix), annot=True, cmap=\"YlGnBu\" ,fmt='g')\n",
    "plt.title('Confusion matrix', y=1.1)\n",
    "plt.ylabel('Actual label')\n",
    "plt.xlabel('Predicted label')"
   ]
  },
  {
   "cell_type": "code",
   "execution_count": 105,
   "id": "9c40c143",
   "metadata": {},
   "outputs": [
    {
     "data": {
      "text/plain": [
       "array([1., 0.])"
      ]
     },
     "execution_count": 105,
     "metadata": {},
     "output_type": "execute_result"
    }
   ],
   "source": [
    "input_ds.binaryGoalMet.unique()"
   ]
  },
  {
   "cell_type": "markdown",
   "id": "0e02d4bf",
   "metadata": {},
   "source": [
    "We get the highest accuracy for Random Forest, with the score reaching 99%. \n",
    "This implies, our model predicted classified correctly 99% of the times.\n",
    "The Precision score stood at 0.99, implying our model correctly classified observations with high importance 99% of the times. \n",
    "The Recall stood at 0.99.\n",
    "We also have an F1 score of 0.99. The F1 score is the harmonic mean of precision and recall. It assigns equal weight to both the metrics. \n",
    "However, for our analysis it is relatively more important for the model to have low false negative cases(Where the patient is improving with the sessions)\n",
    "Therefore, we individually look at Precision and Recall."
   ]
  },
  {
   "cell_type": "code",
   "execution_count": 73,
   "id": "79871911",
   "metadata": {},
   "outputs": [],
   "source": [
    "def plot_feature_importance(importance,names,model_type):\n",
    "    #Create arrays from feature importance and feature names\n",
    "    feature_importance = np.array(importance)\n",
    "    feature_names = np.array(names)\n",
    "    #Create a DataFrame using a Dictionary\n",
    "    data={'feature_names':feature_names,'feature_importance':feature_importance}\n",
    "    fi_df = pd.DataFrame(data)\n",
    "\n",
    "    #Sort the DataFrame in order decreasing feature importance\n",
    "    fi_df.sort_values(by=['feature_importance'], ascending=False,inplace=True)\n",
    "    \n",
    "    #Sort the DataFrame in order decreasing feature importance\n",
    "    fi_df.sort_values(by=['feature_importance'], ascending=False,inplace=True)\n",
    "\n",
    "    #Define size of bar plot\n",
    "    plt.figure(figsize=(10,8))\n",
    "    #Plot Searborn bar chart\n",
    "    sns.barplot(x=fi_df['feature_importance'], y=fi_df['feature_names'])\n",
    "    #Add chart labels\n",
    "    plt.title(model_type + 'FEATURE IMPORTANCE')\n",
    "    plt.xlabel('FEATURE IMPORTANCE')\n",
    "    plt.ylabel('FEATURE NAMES')"
   ]
  },
  {
   "cell_type": "code",
   "execution_count": 74,
   "id": "6dae79a2",
   "metadata": {},
   "outputs": [
    {
     "data": {
      "image/png": "[encoded data removed]",
      "text/plain": [
       "<Figure size 720x576 with 1 Axes>"
      ]
     },
     "metadata": {
      "needs_background": "light"
     },
     "output_type": "display_data"
    }
   ],
   "source": [
    "plot_feature_importance(model.feature_importances_,X_train.columns,'RANDOM FOREST')"
   ]
  },
  {
   "cell_type": "markdown",
   "id": "c5f8994c",
   "metadata": {},
   "source": [
    "<strong>Conclusion</strong>\n",
    "We thus select the Random Forest Classifier as the right model due to high accuracy, precision and recall score. \n",
    "One reason why Random Forest Classifier showed an improved performance was because of the presence of outliers. \n",
    "As mentioned before, since Random Forest is not a a distance based algorithm, it is not much affected by outliers.\n",
    "Whereas distance based algorithm such as Logistic Regression and Support Vector showed a lower performance.\n",
    "Based on the feature importance:\n",
    "Author Changes is the most important factor in determining the onset of diabetes followed by BMI and Age.\n",
    "Other factors also contributes to the prediction.\n",
    "As we can see, the results derived from Feature Importance makes sense as one of the first things that actually affects the outcomes."
   ]
  },
  {
   "cell_type": "code",
   "execution_count": 136,
   "id": "13d1e6e4",
   "metadata": {},
   "outputs": [
    {
     "data": {
      "text/plain": [
       "<matplotlib.axes._subplots.AxesSubplot at 0x7fe97179a668>"
      ]
     },
     "execution_count": 136,
     "metadata": {},
     "output_type": "execute_result"
    },
    {
     "data": {
      "image/png": "[encoded data removed]",
      "text/plain": [
       "<Figure size 432x288 with 1 Axes>"
      ]
     },
     "metadata": {
      "needs_background": "light"
     },
     "output_type": "display_data"
    }
   ],
   "source": [
    "sns.scatterplot(x=input_ds['authorChanges_byTrialId'],hue=input_ds['binaryGoalMet'],y=input_ds['trialStarts_byAuthor_Goal'])"
   ]
  },
  {
   "cell_type": "code",
   "execution_count": null,
   "id": "87a7e0e1",
   "metadata": {},
   "outputs": [],
   "source": [
    "from sklearn.svm import SVC\n",
    "classifier_rbf = SVC(kernel = 'rbf')\n",
    "classifier_rbf.fit(X_train, y_train)\n",
    "y_pred = classifier_rbf.predict(X_test)\n",
    "print('Accuracy of SVC (RBF) classifier on test set: {:.2f}'.format(classifier_rbf.score(X_test, y_test)))"
   ]
  },
  {
   "cell_type": "code",
   "execution_count": 75,
   "id": "0b8a5cf7",
   "metadata": {},
   "outputs": [
    {
     "ename": "NameError",
     "evalue": "name 'KNeighborsClassifier' is not defined",
     "output_type": "error",
     "traceback": [
      "\u001b[0;31m---------------------------------------------------------------------------\u001b[0m",
      "\u001b[0;31mNameError\u001b[0m                                 Traceback (most recent call last)",
      "\u001b[0;32m<ipython-input-75-c5129c32b850>\u001b[0m in \u001b[0;36m<module>\u001b[0;34m\u001b[0m\n\u001b[1;32m      3\u001b[0m \u001b[0;31m#In case of classifier like knn the parameter to be tuned is n_neighbors\u001b[0m\u001b[0;34m\u001b[0m\u001b[0;34m\u001b[0m\u001b[0;34m\u001b[0m\u001b[0m\n\u001b[1;32m      4\u001b[0m \u001b[0mparam_grid\u001b[0m \u001b[0;34m=\u001b[0m \u001b[0;34m{\u001b[0m\u001b[0;34m'n_neighbors'\u001b[0m\u001b[0;34m:\u001b[0m\u001b[0mnp\u001b[0m\u001b[0;34m.\u001b[0m\u001b[0marange\u001b[0m\u001b[0;34m(\u001b[0m\u001b[0;36m1\u001b[0m\u001b[0;34m,\u001b[0m\u001b[0;36m50\u001b[0m\u001b[0;34m)\u001b[0m\u001b[0;34m}\u001b[0m\u001b[0;34m\u001b[0m\u001b[0;34m\u001b[0m\u001b[0m\n\u001b[0;32m----> 5\u001b[0;31m \u001b[0mknn\u001b[0m \u001b[0;34m=\u001b[0m \u001b[0mKNeighborsClassifier\u001b[0m\u001b[0;34m(\u001b[0m\u001b[0;34m)\u001b[0m\u001b[0;34m\u001b[0m\u001b[0;34m\u001b[0m\u001b[0m\n\u001b[0m\u001b[1;32m      6\u001b[0m \u001b[0mknn_cv\u001b[0m\u001b[0;34m=\u001b[0m \u001b[0mGridSearchCV\u001b[0m\u001b[0;34m(\u001b[0m\u001b[0mknn\u001b[0m\u001b[0;34m,\u001b[0m\u001b[0mparam_grid\u001b[0m\u001b[0;34m,\u001b[0m\u001b[0mcv\u001b[0m\u001b[0;34m=\u001b[0m\u001b[0;36m5\u001b[0m\u001b[0;34m)\u001b[0m\u001b[0;34m\u001b[0m\u001b[0;34m\u001b[0m\u001b[0m\n\u001b[1;32m      7\u001b[0m \u001b[0mknn_cv\u001b[0m\u001b[0;34m.\u001b[0m\u001b[0mfit\u001b[0m\u001b[0;34m(\u001b[0m\u001b[0mX\u001b[0m\u001b[0;34m,\u001b[0m\u001b[0my\u001b[0m\u001b[0;34m)\u001b[0m\u001b[0;34m\u001b[0m\u001b[0;34m\u001b[0m\u001b[0m\n",
      "\u001b[0;31mNameError\u001b[0m: name 'KNeighborsClassifier' is not defined"
     ]
    }
   ],
   "source": [
    "#import GridSearchCV\n",
    "from sklearn.model_selection import GridSearchCV\n",
    "#In case of classifier like knn the parameter to be tuned is n_neighbors\n",
    "param_grid = {'n_neighbors':np.arange(1,50)}\n",
    "knn = KNeighborsClassifier()\n",
    "knn_cv= GridSearchCV(knn,param_grid,cv=5)\n",
    "knn_cv.fit(X,y)\n",
    "\n",
    "print(\"Best Score:\" + str(knn_cv.best_score_))\n",
    "print(\"Best Parameters: \" + str(knn_cv.best_params_))"
   ]
  },
  {
   "cell_type": "code",
   "execution_count": null,
   "id": "7496606c",
   "metadata": {},
   "outputs": [],
   "source": [
    "#import classification_report\n",
    "from sklearn.metrics import classification_report\n",
    "print(classification_report(y_test,y_pred))"
   ]
  },
  {
   "cell_type": "code",
   "execution_count": null,
   "id": "72335c00",
   "metadata": {},
   "outputs": [],
   "source": [
    "from sklearn.metrics import roc_curve\n",
    "y_pred_proba = knn.predict_proba(X_test)[:,1]\n",
    "fpr, tpr, thresholds = roc_curve(y_test, y_pred_proba)"
   ]
  },
  {
   "cell_type": "code",
   "execution_count": null,
   "id": "d79d6695",
   "metadata": {},
   "outputs": [],
   "source": [
    "plt.plot([0,1],[0,1],'k--')\n",
    "plt.plot(fpr,tpr, label='Knn')\n",
    "plt.xlabel('fpr')\n",
    "plt.ylabel('tpr')\n",
    "plt.title('Knn(n_neighbors=11) ROC curve')\n",
    "plt.show()"
   ]
  },
  {
   "cell_type": "code",
   "execution_count": null,
   "id": "35faa15f",
   "metadata": {},
   "outputs": [],
   "source": [
    "#Area under ROC curve\n",
    "from sklearn.metrics import roc_auc_score\n",
    "roc_auc_score(y_test,y_pred_proba)"
   ]
  }
 ],
 "metadata": {
  "kernelspec": {
   "display_name": "Python 3.6 - AzureML",
   "language": "python",
   "name": "python3-azureml"
  },
  "language_info": {
   "codemirror_mode": {
    "name": "ipython",
    "version": 3
   },
   "file_extension": ".py",
   "mimetype": "text/x-python",
   "name": "python",
   "nbconvert_exporter": "python",
   "pygments_lexer": "ipython3",
   "version": "3.6.9"
  }
 },
 "nbformat": 4,
 "nbformat_minor": 5
}
